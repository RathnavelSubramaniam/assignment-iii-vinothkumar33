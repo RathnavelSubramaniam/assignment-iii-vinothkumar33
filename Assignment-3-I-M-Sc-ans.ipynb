{
 "cells": [
  {
   "cell_type": "markdown",
   "metadata": {
    "id": "TV8T5geLhRPV"
   },
   "source": [
    "# Assignment 3 - Pandas Data Analysis Practice\n",
    "\n",
    "\n",
    "\n"
   ]
  },
  {
   "cell_type": "code",
   "execution_count": 1,
   "metadata": {
    "id": "9pp-7utahRPb"
   },
   "outputs": [],
   "source": [
    "import pandas as pd"
   ]
  },
  {
   "cell_type": "markdown",
   "metadata": {
    "id": "QIaMc6t4hRPb"
   },
   "source": [
    "In this assignment, we're going to analyze an operate on data from a CSV file. Let's begin by downloading the CSV file."
   ]
  },
  {
   "cell_type": "code",
   "execution_count": 2,
   "metadata": {
    "id": "up83P1zShRPc"
   },
   "outputs": [
    {
     "data": {
      "text/plain": [
       "('countries.csv', <http.client.HTTPMessage at 0x1d5b4cd9a50>)"
      ]
     },
     "execution_count": 2,
     "metadata": {},
     "output_type": "execute_result"
    }
   ],
   "source": [
    "from urllib.request import urlretrieve\n",
    "\n",
    "urlretrieve('https://gist.githubusercontent.com/aakashns/28b2e504b3350afd9bdb157893f9725c/raw/994b65665757f4f8887db1c85986a897abb23d84/countries.csv', \n",
    "            'countries.csv')"
   ]
  },
  {
   "cell_type": "markdown",
   "metadata": {
    "id": "v_xf5syOhRPc"
   },
   "source": [
    "Let's load the data from the CSV file into a Pandas data frame."
   ]
  },
  {
   "cell_type": "code",
   "execution_count": 3,
   "metadata": {
    "id": "2sRmoMWQhRPd"
   },
   "outputs": [],
   "source": [
    "countries_df = pd.read_csv('countries.csv')"
   ]
  },
  {
   "cell_type": "code",
   "execution_count": 4,
   "metadata": {
    "id": "3auh2tmwhRPd"
   },
   "outputs": [
    {
     "name": "stdout",
     "output_type": "stream",
     "text": [
      "                             location      continent    population  life_expectancy  hospital_beds_per_thousand  gdp_per_capita\n",
      "0                         Afghanistan           Asia  3.892834e+07            64.83                       0.500        1803.987\n",
      "1                             Albania         Europe  2.877800e+06            78.57                       2.890       11803.431\n",
      "2                             Algeria         Africa  4.385104e+07            76.88                       1.900       13913.839\n",
      "3                             Andorra         Europe  7.726500e+04            83.73                         NaN             NaN\n",
      "4                              Angola         Africa  3.286627e+07            61.15                         NaN        5819.495\n",
      "5                            Anguilla  North America  1.500200e+04            81.88                         NaN             NaN\n",
      "6                 Antigua and Barbuda  North America  9.792800e+04            77.02                       3.800       21490.943\n",
      "7                           Argentina  South America  4.519578e+07            76.67                       5.000       18933.907\n",
      "8                             Armenia           Asia  2.963234e+06            75.09                       4.200        8787.580\n",
      "9                               Aruba  North America  1.067660e+05            76.29                         NaN       35973.781\n",
      "10                          Australia        Oceania  2.549988e+07            83.44                       3.840       44648.710\n",
      "11                            Austria         Europe  9.006400e+06            81.54                       7.370       45436.686\n",
      "12                         Azerbaijan           Asia  1.013918e+07            73.00                       4.700       15847.419\n",
      "13                            Bahamas  North America  3.932480e+05            73.92                       2.900       27717.847\n",
      "14                            Bahrain           Asia  1.701583e+06            77.29                       2.000       43290.705\n",
      "15                         Bangladesh           Asia  1.646894e+08            72.59                       0.800        3523.984\n",
      "16                           Barbados  North America  2.873710e+05            79.19                       5.800       16978.068\n",
      "17                            Belarus         Europe  9.449321e+06            74.79                      11.000       17167.967\n",
      "18                            Belgium         Europe  1.158962e+07            81.63                       5.640       42658.576\n",
      "19                             Belize  North America  3.976210e+05            74.62                       1.300        7824.362\n",
      "20                              Benin         Africa  1.212320e+07            61.77                       0.500        2064.236\n",
      "21                            Bermuda  North America  6.227300e+04            82.59                         NaN       50669.315\n",
      "22                             Bhutan           Asia  7.716120e+05            71.78                       1.700        8708.597\n",
      "23                            Bolivia  South America  1.167303e+07            71.51                       1.100        6885.829\n",
      "24    Bonaire Sint Eustatius and Saba  North America  2.622100e+04            77.79                         NaN             NaN\n",
      "25             Bosnia and Herzegovina         Europe  3.280815e+06            77.40                       3.500       11713.895\n",
      "26                           Botswana         Africa  2.351625e+06            69.59                       1.800       15807.374\n",
      "27                             Brazil  South America  2.125594e+08            75.88                       2.200       14103.452\n",
      "28             British Virgin Islands  North America  3.023700e+04            79.07                         NaN             NaN\n",
      "29                             Brunei           Asia  4.374830e+05            75.86                       2.700       71809.251\n",
      "30                           Bulgaria         Europe  6.948445e+06            75.05                       7.454       18563.307\n",
      "31                       Burkina Faso         Africa  2.090328e+07            61.58                       0.400        1703.102\n",
      "32                            Burundi         Africa  1.189078e+07            61.58                       0.800         702.225\n",
      "33                           Cambodia           Asia  1.671897e+07            69.82                       0.800        3645.070\n",
      "34                           Cameroon         Africa  2.654586e+07            59.29                       1.300        3364.926\n",
      "35                             Canada  North America  3.774216e+07            82.43                       2.500       44017.591\n",
      "36                         Cape Verde         Africa  5.559880e+05            72.98                       2.100        6222.554\n",
      "37                     Cayman Islands  North America  6.572000e+04            83.92                         NaN       49903.029\n",
      "38           Central African Republic         Africa  4.829764e+06            53.28                       1.000         661.240\n",
      "39                               Chad         Africa  1.642586e+07            54.24                         NaN        1768.153\n",
      "40                              Chile  South America  1.911621e+07            80.18                       2.110       22767.037\n",
      "41                              China           Asia  1.439324e+09            76.91                       4.340       15308.712\n",
      "42                           Colombia  South America  5.088288e+07            77.29                       1.710       13254.949\n",
      "43                            Comoros         Africa  8.695950e+05            64.32                       2.200        1413.890\n",
      "44                              Congo         Africa  5.518092e+06            64.57                         NaN        4881.406\n",
      "45                         Costa Rica  North America  5.094114e+06            80.28                       1.130       15524.995\n",
      "46                      Cote d'Ivoire         Africa  2.637828e+07            57.78                         NaN        3601.006\n",
      "47                            Croatia         Europe  4.105268e+06            78.49                       5.540       22669.797\n",
      "48                               Cuba  North America  1.132662e+07            78.80                       5.200             NaN\n",
      "49                            Curacao  North America  1.641000e+05            78.88                         NaN             NaN\n",
      "50                             Cyprus         Europe  8.758990e+05            80.98                       3.400       32415.132\n",
      "51                     Czech Republic         Europe  1.070898e+07            79.38                       6.630       32605.906\n",
      "52       Democratic Republic of Congo         Africa  8.956140e+07            60.68                         NaN         808.133\n",
      "53                            Denmark         Europe  5.792203e+06            80.90                       2.500       46682.515\n",
      "54                           Djibouti         Africa  9.880020e+05            67.11                       1.400        2705.406\n",
      "55                           Dominica  North America  7.199100e+04            75.00                       3.800        9673.367\n",
      "56                 Dominican Republic  North America  1.084790e+07            74.08                       1.600       14600.861\n",
      "57                            Ecuador  South America  1.764306e+07            77.01                       1.500       10581.936\n",
      "58                              Egypt         Africa  1.023344e+08            71.99                       1.600       10550.206\n",
      "59                        El Salvador  North America  6.486201e+06            73.32                       1.300        7292.458\n",
      "60                  Equatorial Guinea         Africa  1.402985e+06            58.74                       2.100       22604.873\n",
      "61                            Eritrea         Africa  3.546427e+06            66.32                       0.700        1510.459\n",
      "62                            Estonia         Europe  1.326539e+06            78.74                       4.690       29481.252\n",
      "63                           Ethiopia         Africa  1.149636e+08            66.60                       0.300        1729.927\n",
      "64                     Faeroe Islands         Europe  4.886500e+04            80.67                         NaN             NaN\n",
      "65                   Falkland Islands  South America  3.483000e+03            81.44                         NaN             NaN\n",
      "66                               Fiji        Oceania  8.964440e+05            67.44                       2.300        8702.975\n",
      "67                            Finland         Europe  5.540718e+06            81.91                       3.280       40585.721\n",
      "68                             France         Europe  6.527351e+07            82.66                       5.980       38605.671\n",
      "69                   French Polynesia        Oceania  2.809040e+05            77.66                         NaN             NaN\n",
      "70                              Gabon         Africa  2.225728e+06            66.47                       6.300       16562.413\n",
      "71                             Gambia         Africa  2.416664e+06            62.05                       1.100        1561.767\n",
      "72                            Georgia           Asia  3.989175e+06            73.77                       2.600        9745.079\n",
      "73                            Germany         Europe  8.378394e+07            81.33                       8.000       45229.245\n",
      "74                              Ghana         Africa  3.107294e+07            64.07                       0.900        4227.630\n",
      "75                          Gibraltar         Europe  3.369100e+04            79.93                         NaN             NaN\n",
      "76                             Greece         Europe  1.042306e+07            82.24                       4.210       24574.382\n",
      "77                          Greenland  North America  5.677200e+04            71.70                         NaN             NaN\n",
      "78                            Grenada  North America  1.125190e+05            72.40                       3.700       13593.877\n",
      "79                               Guam        Oceania  1.687830e+05            80.07                         NaN             NaN\n",
      "80                          Guatemala  North America  1.791557e+07            74.30                       0.600        7423.808\n",
      "81                           Guernsey         Europe  6.705200e+04              NaN                         NaN             NaN\n",
      "82                             Guinea         Africa  1.313279e+07            61.60                       0.300        1998.926\n",
      "83                      Guinea-Bissau         Africa  1.967998e+06            58.32                         NaN        1548.675\n",
      "84                             Guyana  South America  7.865590e+05            69.91                       1.600        7435.047\n",
      "85                              Haiti  North America  1.140253e+07            64.00                       0.700        1653.173\n",
      "86                           Honduras  North America  9.904608e+06            75.27                       0.700        4541.795\n",
      "87                          Hong Kong           Asia  7.496988e+06            84.86                         NaN       56054.920\n",
      "88                            Hungary         Europe  9.660350e+06            76.88                       7.020       26777.561\n",
      "89                            Iceland         Europe  3.412500e+05            82.99                       2.910       46482.958\n",
      "90                              India           Asia  1.380004e+09            69.66                       0.530        6426.674\n",
      "91                          Indonesia           Asia  2.735236e+08            71.72                       1.040       11188.744\n",
      "92                               Iran           Asia  8.399295e+07            76.68                       1.500       19082.620\n",
      "93                               Iraq           Asia  4.022250e+07            70.60                       1.400       15663.986\n",
      "94                            Ireland         Europe  4.937796e+06            82.30                       2.960       67335.293\n",
      "95                        Isle of Man         Europe  8.503200e+04            81.40                         NaN             NaN\n",
      "96                             Israel           Asia  8.655541e+06            82.97                       2.990       33132.320\n",
      "97                              Italy         Europe  6.046183e+07            83.51                       3.180       35220.084\n",
      "98                            Jamaica  North America  2.961161e+06            74.47                       1.700        8193.571\n",
      "99                              Japan           Asia  1.264765e+08            84.63                      13.050       39002.223\n",
      "100                            Jersey         Europe  1.010730e+05              NaN                         NaN             NaN\n",
      "101                            Jordan           Asia  1.020314e+07            74.53                       1.400        8337.490\n",
      "102                        Kazakhstan           Asia  1.877671e+07            73.60                       6.700       24055.588\n",
      "103                             Kenya         Africa  5.377130e+07            66.70                       1.400        2993.028\n",
      "104                            Kosovo         Europe  1.932774e+06              NaN                         NaN        9795.834\n",
      "105                            Kuwait           Asia  4.270563e+06            75.49                       2.000       65530.537\n",
      "106                        Kyrgyzstan           Asia  6.524191e+06            71.45                       4.500        3393.474\n",
      "107                              Laos           Asia  7.275556e+06            67.92                       1.500        6397.360\n",
      "108                            Latvia         Europe  1.886202e+06            75.29                       5.570       25063.846\n",
      "109                           Lebanon           Asia  6.825442e+06            78.93                       2.900       13367.565\n",
      "110                           Lesotho         Africa  2.142252e+06            54.33                         NaN        2851.153\n",
      "111                           Liberia         Africa  5.057677e+06            64.10                       0.800         752.788\n",
      "112                             Libya         Africa  6.871287e+06            72.91                       3.700       17881.509\n",
      "113                     Liechtenstein         Europe  3.813700e+04            82.49                       2.397             NaN\n",
      "114                         Lithuania         Europe  2.722291e+06            75.93                       6.560       29524.265\n",
      "115                        Luxembourg         Europe  6.259760e+05            82.25                       4.510       94277.965\n",
      "116                         Macedonia         Europe  2.083380e+06            75.80                       4.280       13111.214\n",
      "117                        Madagascar         Africa  2.769102e+07            67.04                       0.200        1416.440\n",
      "118                            Malawi         Africa  1.912996e+07            64.26                       1.300        1095.042\n",
      "119                          Malaysia           Asia  3.236600e+07            76.16                       1.900       26808.164\n",
      "120                          Maldives           Asia  5.405420e+05            78.92                         NaN       15183.616\n",
      "121                              Mali         Africa  2.025083e+07            59.31                       0.100        2014.306\n",
      "122                             Malta         Europe  4.415390e+05            82.53                       4.485       36513.323\n",
      "123                        Mauritania         Africa  4.649660e+06            64.92                         NaN        3597.633\n",
      "124                         Mauritius         Africa  1.271767e+06            74.99                       3.400       20292.745\n",
      "125                            Mexico  North America  1.289328e+08            75.05                       1.380       17336.469\n",
      "126                           Moldova         Europe  4.033963e+06            71.90                       5.800        5189.972\n",
      "127                            Monaco         Europe  3.924400e+04            86.75                      13.800             NaN\n",
      "128                          Mongolia           Asia  3.278292e+06            69.87                       7.000       11840.846\n",
      "129                        Montenegro         Europe  6.280620e+05            76.88                       3.861       16409.288\n",
      "130                        Montserrat  North America  4.999000e+03            74.16                         NaN             NaN\n",
      "131                           Morocco         Africa  3.691056e+07            76.68                       1.100        7485.013\n",
      "132                        Mozambique         Africa  3.125544e+07            60.85                       0.700        1136.103\n",
      "133                           Myanmar           Asia  5.440979e+07            67.13                       0.900        5591.597\n",
      "134                           Namibia         Africa  2.540916e+06            63.71                         NaN        9541.808\n",
      "135                             Nepal           Asia  2.913681e+07            70.78                       0.300        2442.804\n",
      "136                       Netherlands         Europe  1.713487e+07            82.28                       3.320       48472.545\n",
      "137                     New Caledonia        Oceania  2.854910e+05            77.55                         NaN             NaN\n",
      "138                       New Zealand        Oceania  4.822233e+06            82.29                       2.610       36085.843\n",
      "139                         Nicaragua  North America  6.624554e+06            74.48                       0.900        5321.444\n",
      "140                             Niger         Africa  2.420664e+07            62.42                       0.300         926.000\n",
      "141                           Nigeria         Africa  2.061396e+08            54.69                         NaN        5338.454\n",
      "142          Northern Mariana Islands        Oceania  5.755700e+04            76.74                         NaN             NaN\n",
      "143                            Norway         Europe  5.421242e+06            82.40                       3.600       64800.057\n",
      "144                              Oman           Asia  5.106622e+06            77.86                       1.600       37960.709\n",
      "145                          Pakistan           Asia  2.208923e+08            67.27                       0.600        5034.708\n",
      "146                         Palestine           Asia  5.101416e+06            74.05                         NaN        4449.898\n",
      "147                            Panama  North America  4.314768e+06            78.51                       2.300       22267.037\n",
      "148                  Papua New Guinea        Oceania  8.947027e+06            64.50                         NaN        3823.194\n",
      "149                          Paraguay  South America  7.132530e+06            74.25                       1.300        8827.010\n",
      "150                              Peru  South America  3.297185e+07            76.74                       1.600       12236.706\n",
      "151                       Philippines           Asia  1.095811e+08            71.23                       1.000        7599.188\n",
      "152                            Poland         Europe  3.784660e+07            78.73                       6.620       27216.445\n",
      "153                          Portugal         Europe  1.019671e+07            82.05                       3.390       27936.896\n",
      "154                       Puerto Rico  North America  2.860840e+06            80.10                         NaN       35044.670\n",
      "155                             Qatar           Asia  2.881060e+06            80.23                       1.200      116935.600\n",
      "156                           Romania         Europe  1.923768e+07            76.05                       6.892       23313.199\n",
      "157                            Russia         Europe  1.459345e+08            72.58                       8.050       24765.954\n",
      "158                            Rwanda         Africa  1.295221e+07            69.02                         NaN        1854.211\n",
      "159             Saint Kitts and Nevis  North America  5.319200e+04            76.23                       2.300       24654.385\n",
      "160                       Saint Lucia  North America  1.836290e+05            76.20                       1.300       12951.839\n",
      "161  Saint Vincent and the Grenadines  North America  1.109470e+05            72.53                       2.600       10727.146\n",
      "162                        San Marino         Europe  3.393800e+04            84.97                       3.800       56861.470\n",
      "163             Sao Tome and Principe         Africa  2.191610e+05            70.39                       2.900        3052.714\n",
      "164                      Saudi Arabia           Asia  3.481387e+07            75.13                       2.700       49045.411\n",
      "165                           Senegal         Africa  1.674393e+07            67.94                         NaN        2470.580\n",
      "166                            Serbia         Europe  6.804596e+06            76.00                       5.609       14048.881\n",
      "167                        Seychelles         Africa  9.834000e+04            73.40                       3.600       26382.287\n",
      "168                      Sierra Leone         Africa  7.976985e+06            54.70                         NaN        1390.300\n",
      "169                         Singapore           Asia  5.850343e+06            83.62                       2.400       85535.383\n",
      "170         Sint Maarten (Dutch part)  North America  4.288200e+04            78.95                         NaN       36327.232\n",
      "171                          Slovakia         Europe  5.459643e+06            77.54                       5.820       30155.152\n",
      "172                          Slovenia         Europe  2.078932e+06            81.32                       4.500       31400.840\n",
      "173                           Somalia         Africa  1.589322e+07            57.40                       0.900             NaN\n",
      "174                      South Africa         Africa  5.930869e+07            64.13                       2.320       12294.876\n",
      "175                       South Korea           Asia  5.126918e+07            83.03                      12.270       35938.374\n",
      "176                       South Sudan         Africa  1.119373e+07            57.85                         NaN        1569.888\n",
      "177                             Spain         Europe  4.675478e+07            83.56                       2.970       34272.360\n",
      "178                         Sri Lanka           Asia  2.141325e+07            76.98                       3.600       11669.077\n",
      "179                             Sudan         Africa  4.384927e+07            65.31                       0.800        4466.507\n",
      "180                          Suriname  South America  5.866340e+05            71.68                       3.100       13767.119\n",
      "181                         Swaziland         Africa  1.160164e+06            60.19                       2.100        7738.975\n",
      "182                            Sweden         Europe  1.009927e+07            82.80                       2.220       46949.283\n",
      "183                       Switzerland         Europe  8.654618e+06            83.78                       4.530       57410.166\n",
      "184                             Syria           Asia  1.750066e+07            72.70                       1.500             NaN\n",
      "185                            Taiwan           Asia  2.381678e+07            80.46                         NaN             NaN\n",
      "186                        Tajikistan           Asia  9.537642e+06            71.10                       4.800        2896.913\n",
      "187                          Tanzania         Africa  5.973421e+07            65.46                       0.700        2683.304\n",
      "188                          Thailand           Asia  6.979998e+07            77.15                       2.100       16277.671\n",
      "189                             Timor           Asia  1.318442e+06            69.50                       5.900        6570.102\n",
      "190                              Togo         Africa  8.278737e+06            61.04                       0.700        1429.813\n",
      "191               Trinidad and Tobago  North America  1.399491e+06            73.51                       3.000       28763.071\n",
      "192                           Tunisia         Africa  1.181862e+07            76.70                       2.300       10849.297\n",
      "193                            Turkey           Asia  8.433907e+07            77.69                       2.810       25129.341\n",
      "194          Turks and Caicos Islands  North America  3.871800e+04            80.22                         NaN             NaN\n",
      "195                            Uganda         Africa  4.574100e+07            63.37                       0.500        1697.707\n",
      "196                           Ukraine         Europe  4.373376e+07            72.06                       8.800        7894.393\n",
      "197              United Arab Emirates           Asia  9.890400e+06            77.97                       1.200       67293.483\n",
      "198                    United Kingdom         Europe  6.788600e+07            81.32                       2.540       39753.244\n",
      "199                     United States  North America  3.310026e+08            78.86                       2.770       54225.446\n",
      "200      United States Virgin Islands  North America  1.044230e+05            80.58                         NaN             NaN\n",
      "201                           Uruguay  South America  3.473727e+06            77.91                       2.800       20551.409\n",
      "202                        Uzbekistan           Asia  3.346920e+07            71.72                       4.000        6253.104\n",
      "203                           Vatican         Europe  8.090000e+02            75.12                         NaN             NaN\n",
      "204                         Venezuela  South America  2.843594e+07            72.06                       0.800       16745.022\n",
      "205                           Vietnam           Asia  9.733858e+07            75.40                       2.600        6171.884\n",
      "206                    Western Sahara         Africa  5.973300e+05            70.26                         NaN             NaN\n",
      "207                             Yemen           Asia  2.982597e+07            66.12                       0.700        1479.147\n",
      "208                            Zambia         Africa  1.838396e+07            63.89                       2.000        3689.251\n",
      "209                          Zimbabwe         Africa  1.486293e+07            61.49                       1.700        1899.775\n"
     ]
    }
   ],
   "source": [
    "print(countries_df.to_string())"
   ]
  },
  {
   "cell_type": "markdown",
   "metadata": {
    "id": "5Q7FmBpahRPe"
   },
   "source": [
    "**Q1: How many countries does the dataframe contain?**\n",
    "\n",
    "Hint: Use the `.shape` method."
   ]
  },
  {
   "cell_type": "code",
   "execution_count": 5,
   "metadata": {
    "id": "8RTJzBnzhRPe"
   },
   "outputs": [],
   "source": [
    "num_countries = countries_df['location'].shape"
   ]
  },
  {
   "cell_type": "code",
   "execution_count": 6,
   "metadata": {},
   "outputs": [
    {
     "data": {
      "text/plain": [
       "(210,)"
      ]
     },
     "execution_count": 6,
     "metadata": {},
     "output_type": "execute_result"
    }
   ],
   "source": [
    "num_countries\n"
   ]
  },
  {
   "cell_type": "code",
   "execution_count": 7,
   "metadata": {
    "id": "gpjBK09PhRPe"
   },
   "outputs": [
    {
     "name": "stdout",
     "output_type": "stream",
     "text": [
      "There are (210,) countries in the dataset\n"
     ]
    }
   ],
   "source": [
    "print('There are {} countries in the dataset'.format(num_countries))"
   ]
  },
  {
   "cell_type": "markdown",
   "metadata": {
    "id": "gKOB4OqzhRPf"
   },
   "source": [
    "**Q2: Retrieve a list of continents from the dataframe?**\n",
    "\n",
    "*Hint: Use the `.unique` method of a series.*"
   ]
  },
  {
   "cell_type": "code",
   "execution_count": 8,
   "metadata": {
    "id": "-5hYYSrChRPf"
   },
   "outputs": [],
   "source": [
    "continents = countries_df['continent'].unique"
   ]
  },
  {
   "cell_type": "code",
   "execution_count": 9,
   "metadata": {
    "id": "l0Xu1EGyhRPf"
   },
   "outputs": [
    {
     "data": {
      "text/plain": [
       "<bound method Series.unique of 0        Asia\n",
       "1      Europe\n",
       "2      Africa\n",
       "3      Europe\n",
       "4      Africa\n",
       "        ...  \n",
       "205      Asia\n",
       "206    Africa\n",
       "207      Asia\n",
       "208    Africa\n",
       "209    Africa\n",
       "Name: continent, Length: 210, dtype: object>"
      ]
     },
     "execution_count": 9,
     "metadata": {},
     "output_type": "execute_result"
    }
   ],
   "source": [
    "continents"
   ]
  },
  {
   "cell_type": "code",
   "execution_count": null,
   "metadata": {},
   "outputs": [],
   "source": []
  },
  {
   "cell_type": "markdown",
   "metadata": {
    "id": "tajFVe6jhRPg"
   },
   "source": [
    "**Q3: What is the total population of all the countries listed in this dataset?**"
   ]
  },
  {
   "cell_type": "code",
   "execution_count": 10,
   "metadata": {
    "id": "80pl0VuahRPg"
   },
   "outputs": [],
   "source": [
    "total_population = countries_df['population'].sum()"
   ]
  },
  {
   "cell_type": "code",
   "execution_count": 11,
   "metadata": {
    "id": "15Rk9LGThRPg"
   },
   "outputs": [
    {
     "name": "stdout",
     "output_type": "stream",
     "text": [
      "The total population is 7757980095.\n"
     ]
    }
   ],
   "source": [
    "print('The total population is {}.'.format(int(total_population)))"
   ]
  },
  {
   "cell_type": "markdown",
   "metadata": {
    "id": "cZNnzKlVhRPh"
   },
   "source": [
    "**Q: (Optional) What is the overall life expectancy across in the world?**\n",
    "\n",
    "*Hint: You'll need to take a weighted average of life expectancy using populations as weights.*"
   ]
  },
  {
   "cell_type": "code",
   "execution_count": 12,
   "metadata": {
    "id": "KfcBfL89hRPh"
   },
   "outputs": [],
   "source": [
    "weighted_expectancy = countries_df.population * countries_df.life_expectancy\n"
   ]
  },
  {
   "cell_type": "code",
   "execution_count": 13,
   "metadata": {
    "id": "juD3QMBphRPh"
   },
   "outputs": [],
   "source": [
    "\n",
    "weight_sum = weighted_expectancy.sum()"
   ]
  },
  {
   "cell_type": "code",
   "execution_count": 14,
   "metadata": {},
   "outputs": [
    {
     "data": {
      "text/plain": [
       "564173128180.24"
      ]
     },
     "execution_count": 14,
     "metadata": {},
     "output_type": "execute_result"
    }
   ],
   "source": [
    "\n",
    "weight_sum"
   ]
  },
  {
   "cell_type": "markdown",
   "metadata": {
    "id": "6ntU-SVphRPh"
   },
   "source": [
    "**Q4: Create a dataframe containing 10 countries with the highest population.**\n",
    "\n",
    "*Hint: Chain the `sort_values` and `head` methods.*"
   ]
  },
  {
   "cell_type": "code",
   "execution_count": 15,
   "metadata": {
    "id": "pKQvWlNAhRPh"
   },
   "outputs": [],
   "source": [
    "most_populous_df = countries_df.sort_values('population',ascending=False).head(10)['location']"
   ]
  },
  {
   "cell_type": "code",
   "execution_count": 16,
   "metadata": {
    "id": "T1Z9BZT3hRPi"
   },
   "outputs": [
    {
     "data": {
      "text/plain": [
       "41             China\n",
       "90             India\n",
       "199    United States\n",
       "91         Indonesia\n",
       "145         Pakistan\n",
       "27            Brazil\n",
       "141          Nigeria\n",
       "15        Bangladesh\n",
       "157           Russia\n",
       "125           Mexico\n",
       "Name: location, dtype: object"
      ]
     },
     "execution_count": 16,
     "metadata": {},
     "output_type": "execute_result"
    }
   ],
   "source": [
    "most_populous_df"
   ]
  },
  {
   "cell_type": "markdown",
   "metadata": {
    "id": "7uuhMiExhRPi"
   },
   "source": [
    "**Q5: Add a new column in `countries_df` to record the overall GDP per country (product of population & per capita GDP).**\n",
    "\n"
   ]
  },
  {
   "cell_type": "code",
   "execution_count": 17,
   "metadata": {
    "id": "HExuEnG5hRPi"
   },
   "outputs": [],
   "source": [
    "countries_df['gdp'] = countries_df['population']*countries_df['gdp_per_capita']"
   ]
  },
  {
   "cell_type": "code",
   "execution_count": 18,
   "metadata": {
    "id": "grIZsguPhRPi"
   },
   "outputs": [
    {
     "data": {
      "text/html": [
       "<div>\n",
       "<style scoped>\n",
       "    .dataframe tbody tr th:only-of-type {\n",
       "        vertical-align: middle;\n",
       "    }\n",
       "\n",
       "    .dataframe tbody tr th {\n",
       "        vertical-align: top;\n",
       "    }\n",
       "\n",
       "    .dataframe thead th {\n",
       "        text-align: right;\n",
       "    }\n",
       "</style>\n",
       "<table border=\"1\" class=\"dataframe\">\n",
       "  <thead>\n",
       "    <tr style=\"text-align: right;\">\n",
       "      <th></th>\n",
       "      <th>location</th>\n",
       "      <th>continent</th>\n",
       "      <th>population</th>\n",
       "      <th>life_expectancy</th>\n",
       "      <th>hospital_beds_per_thousand</th>\n",
       "      <th>gdp_per_capita</th>\n",
       "      <th>gdp</th>\n",
       "    </tr>\n",
       "  </thead>\n",
       "  <tbody>\n",
       "    <tr>\n",
       "      <th>0</th>\n",
       "      <td>Afghanistan</td>\n",
       "      <td>Asia</td>\n",
       "      <td>38928341.0</td>\n",
       "      <td>64.83</td>\n",
       "      <td>0.50</td>\n",
       "      <td>1803.987</td>\n",
       "      <td>7.022622e+10</td>\n",
       "    </tr>\n",
       "    <tr>\n",
       "      <th>1</th>\n",
       "      <td>Albania</td>\n",
       "      <td>Europe</td>\n",
       "      <td>2877800.0</td>\n",
       "      <td>78.57</td>\n",
       "      <td>2.89</td>\n",
       "      <td>11803.431</td>\n",
       "      <td>3.396791e+10</td>\n",
       "    </tr>\n",
       "    <tr>\n",
       "      <th>2</th>\n",
       "      <td>Algeria</td>\n",
       "      <td>Africa</td>\n",
       "      <td>43851043.0</td>\n",
       "      <td>76.88</td>\n",
       "      <td>1.90</td>\n",
       "      <td>13913.839</td>\n",
       "      <td>6.101364e+11</td>\n",
       "    </tr>\n",
       "    <tr>\n",
       "      <th>3</th>\n",
       "      <td>Andorra</td>\n",
       "      <td>Europe</td>\n",
       "      <td>77265.0</td>\n",
       "      <td>83.73</td>\n",
       "      <td>NaN</td>\n",
       "      <td>NaN</td>\n",
       "      <td>NaN</td>\n",
       "    </tr>\n",
       "    <tr>\n",
       "      <th>4</th>\n",
       "      <td>Angola</td>\n",
       "      <td>Africa</td>\n",
       "      <td>32866268.0</td>\n",
       "      <td>61.15</td>\n",
       "      <td>NaN</td>\n",
       "      <td>5819.495</td>\n",
       "      <td>1.912651e+11</td>\n",
       "    </tr>\n",
       "    <tr>\n",
       "      <th>...</th>\n",
       "      <td>...</td>\n",
       "      <td>...</td>\n",
       "      <td>...</td>\n",
       "      <td>...</td>\n",
       "      <td>...</td>\n",
       "      <td>...</td>\n",
       "      <td>...</td>\n",
       "    </tr>\n",
       "    <tr>\n",
       "      <th>205</th>\n",
       "      <td>Vietnam</td>\n",
       "      <td>Asia</td>\n",
       "      <td>97338583.0</td>\n",
       "      <td>75.40</td>\n",
       "      <td>2.60</td>\n",
       "      <td>6171.884</td>\n",
       "      <td>6.007624e+11</td>\n",
       "    </tr>\n",
       "    <tr>\n",
       "      <th>206</th>\n",
       "      <td>Western Sahara</td>\n",
       "      <td>Africa</td>\n",
       "      <td>597330.0</td>\n",
       "      <td>70.26</td>\n",
       "      <td>NaN</td>\n",
       "      <td>NaN</td>\n",
       "      <td>NaN</td>\n",
       "    </tr>\n",
       "    <tr>\n",
       "      <th>207</th>\n",
       "      <td>Yemen</td>\n",
       "      <td>Asia</td>\n",
       "      <td>29825968.0</td>\n",
       "      <td>66.12</td>\n",
       "      <td>0.70</td>\n",
       "      <td>1479.147</td>\n",
       "      <td>4.411699e+10</td>\n",
       "    </tr>\n",
       "    <tr>\n",
       "      <th>208</th>\n",
       "      <td>Zambia</td>\n",
       "      <td>Africa</td>\n",
       "      <td>18383956.0</td>\n",
       "      <td>63.89</td>\n",
       "      <td>2.00</td>\n",
       "      <td>3689.251</td>\n",
       "      <td>6.782303e+10</td>\n",
       "    </tr>\n",
       "    <tr>\n",
       "      <th>209</th>\n",
       "      <td>Zimbabwe</td>\n",
       "      <td>Africa</td>\n",
       "      <td>14862927.0</td>\n",
       "      <td>61.49</td>\n",
       "      <td>1.70</td>\n",
       "      <td>1899.775</td>\n",
       "      <td>2.823622e+10</td>\n",
       "    </tr>\n",
       "  </tbody>\n",
       "</table>\n",
       "<p>210 rows × 7 columns</p>\n",
       "</div>"
      ],
      "text/plain": [
       "           location continent  population  life_expectancy  \\\n",
       "0       Afghanistan      Asia  38928341.0            64.83   \n",
       "1           Albania    Europe   2877800.0            78.57   \n",
       "2           Algeria    Africa  43851043.0            76.88   \n",
       "3           Andorra    Europe     77265.0            83.73   \n",
       "4            Angola    Africa  32866268.0            61.15   \n",
       "..              ...       ...         ...              ...   \n",
       "205         Vietnam      Asia  97338583.0            75.40   \n",
       "206  Western Sahara    Africa    597330.0            70.26   \n",
       "207           Yemen      Asia  29825968.0            66.12   \n",
       "208          Zambia    Africa  18383956.0            63.89   \n",
       "209        Zimbabwe    Africa  14862927.0            61.49   \n",
       "\n",
       "     hospital_beds_per_thousand  gdp_per_capita           gdp  \n",
       "0                          0.50        1803.987  7.022622e+10  \n",
       "1                          2.89       11803.431  3.396791e+10  \n",
       "2                          1.90       13913.839  6.101364e+11  \n",
       "3                           NaN             NaN           NaN  \n",
       "4                           NaN        5819.495  1.912651e+11  \n",
       "..                          ...             ...           ...  \n",
       "205                        2.60        6171.884  6.007624e+11  \n",
       "206                         NaN             NaN           NaN  \n",
       "207                        0.70        1479.147  4.411699e+10  \n",
       "208                        2.00        3689.251  6.782303e+10  \n",
       "209                        1.70        1899.775  2.823622e+10  \n",
       "\n",
       "[210 rows x 7 columns]"
      ]
     },
     "execution_count": 18,
     "metadata": {},
     "output_type": "execute_result"
    }
   ],
   "source": [
    "countries_df"
   ]
  },
  {
   "cell_type": "markdown",
   "metadata": {
    "id": "Ubib2_q_hRPi"
   },
   "source": [
    "**Q: (Optional) Create a dataframe containing 10 countries with the lowest GDP per capita, among the counties with population greater than 100 million.**"
   ]
  },
  {
   "cell_type": "code",
   "execution_count": 19,
   "metadata": {
    "id": "oxr-t8g-hRPj"
   },
   "outputs": [],
   "source": [
    "lowgdp=countries_df[countries_df['population']>100000000].sort_values('gdp_per_capita').head(10)['location']"
   ]
  },
  {
   "cell_type": "code",
   "execution_count": 20,
   "metadata": {
    "id": "rzWGyrkDhRPj"
   },
   "outputs": [
    {
     "data": {
      "text/plain": [
       "63        Ethiopia\n",
       "15      Bangladesh\n",
       "145       Pakistan\n",
       "141        Nigeria\n",
       "90           India\n",
       "151    Philippines\n",
       "58           Egypt\n",
       "91       Indonesia\n",
       "27          Brazil\n",
       "41           China\n",
       "Name: location, dtype: object"
      ]
     },
     "execution_count": 20,
     "metadata": {},
     "output_type": "execute_result"
    }
   ],
   "source": [
    "lowgdp"
   ]
  },
  {
   "cell_type": "markdown",
   "metadata": {
    "id": "KbzPbpHzhRPj"
   },
   "source": [
    "**Q6: Create a data frame that counts the number countries in each continent?**\n",
    "\n",
    "*Hint: Use `groupby`, select the `location` column and aggregate using `count`.*"
   ]
  },
  {
   "cell_type": "code",
   "execution_count": 21,
   "metadata": {
    "id": "zlziJQJnhRPj"
   },
   "outputs": [],
   "source": [
    "country_counts_df = countries_df.groupby('continent')['location'].count()"
   ]
  },
  {
   "cell_type": "code",
   "execution_count": 22,
   "metadata": {
    "id": "WJi2vm4thRPj"
   },
   "outputs": [
    {
     "data": {
      "text/plain": [
       "continent\n",
       "Africa           55\n",
       "Asia             47\n",
       "Europe           51\n",
       "North America    36\n",
       "Oceania           8\n",
       "South America    13\n",
       "Name: location, dtype: int64"
      ]
     },
     "execution_count": 22,
     "metadata": {},
     "output_type": "execute_result"
    }
   ],
   "source": [
    "country_counts_df"
   ]
  },
  {
   "cell_type": "markdown",
   "metadata": {
    "id": "Xl8Vom5jhRPj"
   },
   "source": [
    "**Q7: Create a data frame showing the total population of each continent.**\n",
    "\n",
    "*Hint: Use `groupby`, select the population column and aggregate using `sum`.*"
   ]
  },
  {
   "cell_type": "code",
   "execution_count": 23,
   "metadata": {
    "id": "y8Y8nBMchRPk"
   },
   "outputs": [],
   "source": [
    "continent_populations_df = countries_df.groupby('continent')['population'].sum()"
   ]
  },
  {
   "cell_type": "code",
   "execution_count": 24,
   "metadata": {
    "id": "L0O0_NE4hRPk"
   },
   "outputs": [
    {
     "data": {
      "text/plain": [
       "continent\n",
       "Africa           1.339424e+09\n",
       "Asia             4.607388e+09\n",
       "Europe           7.485062e+08\n",
       "North America    5.912425e+08\n",
       "Oceania          4.095832e+07\n",
       "South America    4.304611e+08\n",
       "Name: population, dtype: float64"
      ]
     },
     "execution_count": 24,
     "metadata": {},
     "output_type": "execute_result"
    }
   ],
   "source": [
    "continent_populations_df"
   ]
  },
  {
   "cell_type": "markdown",
   "metadata": {
    "id": "F_ElMjEshRPk"
   },
   "source": [
    "Let's download another CSV file containing overall Covid-19 stats for various countires, and read the data into another Pandas data frame."
   ]
  },
  {
   "cell_type": "code",
   "execution_count": 25,
   "metadata": {
    "id": "Xpgycp1DhRPk"
   },
   "outputs": [
    {
     "data": {
      "text/plain": [
       "('covid-countries-data.csv', <http.client.HTTPMessage at 0x1d5b4cdaa10>)"
      ]
     },
     "execution_count": 25,
     "metadata": {},
     "output_type": "execute_result"
    }
   ],
   "source": [
    "urlretrieve('https://gist.githubusercontent.com/aakashns/b2a968a6cfd9fbbb0ff3d6bd0f26262b/raw/b115ed1dfa17f10fc88bf966236cd4d9032f1df8/covid-countries-data.csv', \n",
    "            'covid-countries-data.csv')"
   ]
  },
  {
   "cell_type": "code",
   "execution_count": 26,
   "metadata": {
    "id": "5FAQbg4jhRPk"
   },
   "outputs": [],
   "source": [
    "covid_data_df = pd.read_csv('covid-countries-data.csv')"
   ]
  },
  {
   "cell_type": "code",
   "execution_count": 27,
   "metadata": {
    "id": "3QNHFHHuhRPk",
    "scrolled": true
   },
   "outputs": [
    {
     "data": {
      "text/html": [
       "<div>\n",
       "<style scoped>\n",
       "    .dataframe tbody tr th:only-of-type {\n",
       "        vertical-align: middle;\n",
       "    }\n",
       "\n",
       "    .dataframe tbody tr th {\n",
       "        vertical-align: top;\n",
       "    }\n",
       "\n",
       "    .dataframe thead th {\n",
       "        text-align: right;\n",
       "    }\n",
       "</style>\n",
       "<table border=\"1\" class=\"dataframe\">\n",
       "  <thead>\n",
       "    <tr style=\"text-align: right;\">\n",
       "      <th></th>\n",
       "      <th>location</th>\n",
       "      <th>total_cases</th>\n",
       "      <th>total_deaths</th>\n",
       "      <th>total_tests</th>\n",
       "    </tr>\n",
       "  </thead>\n",
       "  <tbody>\n",
       "    <tr>\n",
       "      <th>0</th>\n",
       "      <td>Afghanistan</td>\n",
       "      <td>38243.0</td>\n",
       "      <td>1409.0</td>\n",
       "      <td>NaN</td>\n",
       "    </tr>\n",
       "    <tr>\n",
       "      <th>1</th>\n",
       "      <td>Albania</td>\n",
       "      <td>9728.0</td>\n",
       "      <td>296.0</td>\n",
       "      <td>NaN</td>\n",
       "    </tr>\n",
       "    <tr>\n",
       "      <th>2</th>\n",
       "      <td>Algeria</td>\n",
       "      <td>45158.0</td>\n",
       "      <td>1525.0</td>\n",
       "      <td>NaN</td>\n",
       "    </tr>\n",
       "    <tr>\n",
       "      <th>3</th>\n",
       "      <td>Andorra</td>\n",
       "      <td>1199.0</td>\n",
       "      <td>53.0</td>\n",
       "      <td>NaN</td>\n",
       "    </tr>\n",
       "    <tr>\n",
       "      <th>4</th>\n",
       "      <td>Angola</td>\n",
       "      <td>2729.0</td>\n",
       "      <td>109.0</td>\n",
       "      <td>NaN</td>\n",
       "    </tr>\n",
       "    <tr>\n",
       "      <th>...</th>\n",
       "      <td>...</td>\n",
       "      <td>...</td>\n",
       "      <td>...</td>\n",
       "      <td>...</td>\n",
       "    </tr>\n",
       "    <tr>\n",
       "      <th>207</th>\n",
       "      <td>Western Sahara</td>\n",
       "      <td>766.0</td>\n",
       "      <td>1.0</td>\n",
       "      <td>NaN</td>\n",
       "    </tr>\n",
       "    <tr>\n",
       "      <th>208</th>\n",
       "      <td>World</td>\n",
       "      <td>26059065.0</td>\n",
       "      <td>863535.0</td>\n",
       "      <td>NaN</td>\n",
       "    </tr>\n",
       "    <tr>\n",
       "      <th>209</th>\n",
       "      <td>Yemen</td>\n",
       "      <td>1976.0</td>\n",
       "      <td>571.0</td>\n",
       "      <td>NaN</td>\n",
       "    </tr>\n",
       "    <tr>\n",
       "      <th>210</th>\n",
       "      <td>Zambia</td>\n",
       "      <td>12415.0</td>\n",
       "      <td>292.0</td>\n",
       "      <td>NaN</td>\n",
       "    </tr>\n",
       "    <tr>\n",
       "      <th>211</th>\n",
       "      <td>Zimbabwe</td>\n",
       "      <td>6638.0</td>\n",
       "      <td>206.0</td>\n",
       "      <td>97272.0</td>\n",
       "    </tr>\n",
       "  </tbody>\n",
       "</table>\n",
       "<p>212 rows × 4 columns</p>\n",
       "</div>"
      ],
      "text/plain": [
       "           location  total_cases  total_deaths  total_tests\n",
       "0       Afghanistan      38243.0        1409.0          NaN\n",
       "1           Albania       9728.0         296.0          NaN\n",
       "2           Algeria      45158.0        1525.0          NaN\n",
       "3           Andorra       1199.0          53.0          NaN\n",
       "4            Angola       2729.0         109.0          NaN\n",
       "..              ...          ...           ...          ...\n",
       "207  Western Sahara        766.0           1.0          NaN\n",
       "208           World   26059065.0      863535.0          NaN\n",
       "209           Yemen       1976.0         571.0          NaN\n",
       "210          Zambia      12415.0         292.0          NaN\n",
       "211        Zimbabwe       6638.0         206.0      97272.0\n",
       "\n",
       "[212 rows x 4 columns]"
      ]
     },
     "execution_count": 27,
     "metadata": {},
     "output_type": "execute_result"
    }
   ],
   "source": [
    "covid_data_df"
   ]
  },
  {
   "cell_type": "markdown",
   "metadata": {
    "id": "ljebBYkThRPk"
   },
   "source": [
    "**Q8: Count the number of countries for which the `total_tests` data is missing.**\n",
    "\n",
    "*Hint: Use the `.isna` method.*"
   ]
  },
  {
   "cell_type": "code",
   "execution_count": 28,
   "metadata": {
    "id": "8WXoZbFmhRPl"
   },
   "outputs": [],
   "source": [
    "total_tests_missing = covid_data_df['total_tests'].isna().sum()\n"
   ]
  },
  {
   "cell_type": "code",
   "execution_count": 29,
   "metadata": {
    "id": "QdQWOTf9hRPl"
   },
   "outputs": [
    {
     "name": "stdout",
     "output_type": "stream",
     "text": [
      "The data for total tests is missing for 122 countries.\n"
     ]
    }
   ],
   "source": [
    "print(\"The data for total tests is missing for {} countries.\".format(int(total_tests_missing)))"
   ]
  },
  {
   "cell_type": "markdown",
   "metadata": {
    "id": "aDNzmjWchRPl"
   },
   "source": [
    "Let's merge the two data frames, and compute some more metrics.\n",
    "\n",
    "**Q9: Merge `countries_df` with `covid_data_df` on the `location` column.**\n",
    "\n",
    "*Hint: Use the `.merge` method on `countries_df`."
   ]
  },
  {
   "cell_type": "code",
   "execution_count": 30,
   "metadata": {
    "id": "_4TscU39hRPl"
   },
   "outputs": [],
   "source": [
    "combined_df = countries_df.merge(covid_data_df,on='location')"
   ]
  },
  {
   "cell_type": "code",
   "execution_count": 31,
   "metadata": {
    "id": "hMHmjsTohRPl"
   },
   "outputs": [
    {
     "data": {
      "text/html": [
       "<div>\n",
       "<style scoped>\n",
       "    .dataframe tbody tr th:only-of-type {\n",
       "        vertical-align: middle;\n",
       "    }\n",
       "\n",
       "    .dataframe tbody tr th {\n",
       "        vertical-align: top;\n",
       "    }\n",
       "\n",
       "    .dataframe thead th {\n",
       "        text-align: right;\n",
       "    }\n",
       "</style>\n",
       "<table border=\"1\" class=\"dataframe\">\n",
       "  <thead>\n",
       "    <tr style=\"text-align: right;\">\n",
       "      <th></th>\n",
       "      <th>location</th>\n",
       "      <th>continent</th>\n",
       "      <th>population</th>\n",
       "      <th>life_expectancy</th>\n",
       "      <th>hospital_beds_per_thousand</th>\n",
       "      <th>gdp_per_capita</th>\n",
       "      <th>gdp</th>\n",
       "      <th>total_cases</th>\n",
       "      <th>total_deaths</th>\n",
       "      <th>total_tests</th>\n",
       "    </tr>\n",
       "  </thead>\n",
       "  <tbody>\n",
       "    <tr>\n",
       "      <th>0</th>\n",
       "      <td>Afghanistan</td>\n",
       "      <td>Asia</td>\n",
       "      <td>38928341.0</td>\n",
       "      <td>64.83</td>\n",
       "      <td>0.50</td>\n",
       "      <td>1803.987</td>\n",
       "      <td>7.022622e+10</td>\n",
       "      <td>38243.0</td>\n",
       "      <td>1409.0</td>\n",
       "      <td>NaN</td>\n",
       "    </tr>\n",
       "    <tr>\n",
       "      <th>1</th>\n",
       "      <td>Albania</td>\n",
       "      <td>Europe</td>\n",
       "      <td>2877800.0</td>\n",
       "      <td>78.57</td>\n",
       "      <td>2.89</td>\n",
       "      <td>11803.431</td>\n",
       "      <td>3.396791e+10</td>\n",
       "      <td>9728.0</td>\n",
       "      <td>296.0</td>\n",
       "      <td>NaN</td>\n",
       "    </tr>\n",
       "    <tr>\n",
       "      <th>2</th>\n",
       "      <td>Algeria</td>\n",
       "      <td>Africa</td>\n",
       "      <td>43851043.0</td>\n",
       "      <td>76.88</td>\n",
       "      <td>1.90</td>\n",
       "      <td>13913.839</td>\n",
       "      <td>6.101364e+11</td>\n",
       "      <td>45158.0</td>\n",
       "      <td>1525.0</td>\n",
       "      <td>NaN</td>\n",
       "    </tr>\n",
       "    <tr>\n",
       "      <th>3</th>\n",
       "      <td>Andorra</td>\n",
       "      <td>Europe</td>\n",
       "      <td>77265.0</td>\n",
       "      <td>83.73</td>\n",
       "      <td>NaN</td>\n",
       "      <td>NaN</td>\n",
       "      <td>NaN</td>\n",
       "      <td>1199.0</td>\n",
       "      <td>53.0</td>\n",
       "      <td>NaN</td>\n",
       "    </tr>\n",
       "    <tr>\n",
       "      <th>4</th>\n",
       "      <td>Angola</td>\n",
       "      <td>Africa</td>\n",
       "      <td>32866268.0</td>\n",
       "      <td>61.15</td>\n",
       "      <td>NaN</td>\n",
       "      <td>5819.495</td>\n",
       "      <td>1.912651e+11</td>\n",
       "      <td>2729.0</td>\n",
       "      <td>109.0</td>\n",
       "      <td>NaN</td>\n",
       "    </tr>\n",
       "    <tr>\n",
       "      <th>...</th>\n",
       "      <td>...</td>\n",
       "      <td>...</td>\n",
       "      <td>...</td>\n",
       "      <td>...</td>\n",
       "      <td>...</td>\n",
       "      <td>...</td>\n",
       "      <td>...</td>\n",
       "      <td>...</td>\n",
       "      <td>...</td>\n",
       "      <td>...</td>\n",
       "    </tr>\n",
       "    <tr>\n",
       "      <th>205</th>\n",
       "      <td>Vietnam</td>\n",
       "      <td>Asia</td>\n",
       "      <td>97338583.0</td>\n",
       "      <td>75.40</td>\n",
       "      <td>2.60</td>\n",
       "      <td>6171.884</td>\n",
       "      <td>6.007624e+11</td>\n",
       "      <td>1046.0</td>\n",
       "      <td>35.0</td>\n",
       "      <td>261004.0</td>\n",
       "    </tr>\n",
       "    <tr>\n",
       "      <th>206</th>\n",
       "      <td>Western Sahara</td>\n",
       "      <td>Africa</td>\n",
       "      <td>597330.0</td>\n",
       "      <td>70.26</td>\n",
       "      <td>NaN</td>\n",
       "      <td>NaN</td>\n",
       "      <td>NaN</td>\n",
       "      <td>766.0</td>\n",
       "      <td>1.0</td>\n",
       "      <td>NaN</td>\n",
       "    </tr>\n",
       "    <tr>\n",
       "      <th>207</th>\n",
       "      <td>Yemen</td>\n",
       "      <td>Asia</td>\n",
       "      <td>29825968.0</td>\n",
       "      <td>66.12</td>\n",
       "      <td>0.70</td>\n",
       "      <td>1479.147</td>\n",
       "      <td>4.411699e+10</td>\n",
       "      <td>1976.0</td>\n",
       "      <td>571.0</td>\n",
       "      <td>NaN</td>\n",
       "    </tr>\n",
       "    <tr>\n",
       "      <th>208</th>\n",
       "      <td>Zambia</td>\n",
       "      <td>Africa</td>\n",
       "      <td>18383956.0</td>\n",
       "      <td>63.89</td>\n",
       "      <td>2.00</td>\n",
       "      <td>3689.251</td>\n",
       "      <td>6.782303e+10</td>\n",
       "      <td>12415.0</td>\n",
       "      <td>292.0</td>\n",
       "      <td>NaN</td>\n",
       "    </tr>\n",
       "    <tr>\n",
       "      <th>209</th>\n",
       "      <td>Zimbabwe</td>\n",
       "      <td>Africa</td>\n",
       "      <td>14862927.0</td>\n",
       "      <td>61.49</td>\n",
       "      <td>1.70</td>\n",
       "      <td>1899.775</td>\n",
       "      <td>2.823622e+10</td>\n",
       "      <td>6638.0</td>\n",
       "      <td>206.0</td>\n",
       "      <td>97272.0</td>\n",
       "    </tr>\n",
       "  </tbody>\n",
       "</table>\n",
       "<p>210 rows × 10 columns</p>\n",
       "</div>"
      ],
      "text/plain": [
       "           location continent  population  life_expectancy  \\\n",
       "0       Afghanistan      Asia  38928341.0            64.83   \n",
       "1           Albania    Europe   2877800.0            78.57   \n",
       "2           Algeria    Africa  43851043.0            76.88   \n",
       "3           Andorra    Europe     77265.0            83.73   \n",
       "4            Angola    Africa  32866268.0            61.15   \n",
       "..              ...       ...         ...              ...   \n",
       "205         Vietnam      Asia  97338583.0            75.40   \n",
       "206  Western Sahara    Africa    597330.0            70.26   \n",
       "207           Yemen      Asia  29825968.0            66.12   \n",
       "208          Zambia    Africa  18383956.0            63.89   \n",
       "209        Zimbabwe    Africa  14862927.0            61.49   \n",
       "\n",
       "     hospital_beds_per_thousand  gdp_per_capita           gdp  total_cases  \\\n",
       "0                          0.50        1803.987  7.022622e+10      38243.0   \n",
       "1                          2.89       11803.431  3.396791e+10       9728.0   \n",
       "2                          1.90       13913.839  6.101364e+11      45158.0   \n",
       "3                           NaN             NaN           NaN       1199.0   \n",
       "4                           NaN        5819.495  1.912651e+11       2729.0   \n",
       "..                          ...             ...           ...          ...   \n",
       "205                        2.60        6171.884  6.007624e+11       1046.0   \n",
       "206                         NaN             NaN           NaN        766.0   \n",
       "207                        0.70        1479.147  4.411699e+10       1976.0   \n",
       "208                        2.00        3689.251  6.782303e+10      12415.0   \n",
       "209                        1.70        1899.775  2.823622e+10       6638.0   \n",
       "\n",
       "     total_deaths  total_tests  \n",
       "0          1409.0          NaN  \n",
       "1           296.0          NaN  \n",
       "2          1525.0          NaN  \n",
       "3            53.0          NaN  \n",
       "4           109.0          NaN  \n",
       "..            ...          ...  \n",
       "205          35.0     261004.0  \n",
       "206           1.0          NaN  \n",
       "207         571.0          NaN  \n",
       "208         292.0          NaN  \n",
       "209         206.0      97272.0  \n",
       "\n",
       "[210 rows x 10 columns]"
      ]
     },
     "execution_count": 31,
     "metadata": {},
     "output_type": "execute_result"
    }
   ],
   "source": [
    "combined_df"
   ]
  },
  {
   "cell_type": "markdown",
   "metadata": {
    "id": "3ppQWr7FhRPm"
   },
   "source": [
    "**Q10: Add columns `tests_per_million`, `cases_per_million` and `deaths_per_million` into `combined_df`.**"
   ]
  },
  {
   "cell_type": "code",
   "execution_count": 32,
   "metadata": {
    "id": "wScpVZGlhRPm"
   },
   "outputs": [],
   "source": [
    "combined_df['tests_per_million'] = combined_df['total_tests'] * 1e6 / combined_df['population']"
   ]
  },
  {
   "cell_type": "code",
   "execution_count": 33,
   "metadata": {
    "id": "XsYWajn8hRPm"
   },
   "outputs": [],
   "source": [
    "combined_df['cases_per_million'] = combined_df['total_cases'] * 1e6 / combined_df['population']"
   ]
  },
  {
   "cell_type": "code",
   "execution_count": 34,
   "metadata": {
    "id": "mfbbkO_uhRPm"
   },
   "outputs": [],
   "source": [
    "combined_df['deaths_per_million'] = combined_df['total_deaths'] * 1e6 / combined_df['population']"
   ]
  },
  {
   "cell_type": "code",
   "execution_count": 35,
   "metadata": {
    "id": "1vscHmGPhRPm"
   },
   "outputs": [
    {
     "data": {
      "text/html": [
       "<div>\n",
       "<style scoped>\n",
       "    .dataframe tbody tr th:only-of-type {\n",
       "        vertical-align: middle;\n",
       "    }\n",
       "\n",
       "    .dataframe tbody tr th {\n",
       "        vertical-align: top;\n",
       "    }\n",
       "\n",
       "    .dataframe thead th {\n",
       "        text-align: right;\n",
       "    }\n",
       "</style>\n",
       "<table border=\"1\" class=\"dataframe\">\n",
       "  <thead>\n",
       "    <tr style=\"text-align: right;\">\n",
       "      <th></th>\n",
       "      <th>location</th>\n",
       "      <th>continent</th>\n",
       "      <th>population</th>\n",
       "      <th>life_expectancy</th>\n",
       "      <th>hospital_beds_per_thousand</th>\n",
       "      <th>gdp_per_capita</th>\n",
       "      <th>gdp</th>\n",
       "      <th>total_cases</th>\n",
       "      <th>total_deaths</th>\n",
       "      <th>total_tests</th>\n",
       "      <th>tests_per_million</th>\n",
       "      <th>cases_per_million</th>\n",
       "      <th>deaths_per_million</th>\n",
       "    </tr>\n",
       "  </thead>\n",
       "  <tbody>\n",
       "    <tr>\n",
       "      <th>0</th>\n",
       "      <td>Afghanistan</td>\n",
       "      <td>Asia</td>\n",
       "      <td>38928341.0</td>\n",
       "      <td>64.83</td>\n",
       "      <td>0.50</td>\n",
       "      <td>1803.987</td>\n",
       "      <td>7.022622e+10</td>\n",
       "      <td>38243.0</td>\n",
       "      <td>1409.0</td>\n",
       "      <td>NaN</td>\n",
       "      <td>NaN</td>\n",
       "      <td>982.394806</td>\n",
       "      <td>36.194710</td>\n",
       "    </tr>\n",
       "    <tr>\n",
       "      <th>1</th>\n",
       "      <td>Albania</td>\n",
       "      <td>Europe</td>\n",
       "      <td>2877800.0</td>\n",
       "      <td>78.57</td>\n",
       "      <td>2.89</td>\n",
       "      <td>11803.431</td>\n",
       "      <td>3.396791e+10</td>\n",
       "      <td>9728.0</td>\n",
       "      <td>296.0</td>\n",
       "      <td>NaN</td>\n",
       "      <td>NaN</td>\n",
       "      <td>3380.359997</td>\n",
       "      <td>102.856349</td>\n",
       "    </tr>\n",
       "    <tr>\n",
       "      <th>2</th>\n",
       "      <td>Algeria</td>\n",
       "      <td>Africa</td>\n",
       "      <td>43851043.0</td>\n",
       "      <td>76.88</td>\n",
       "      <td>1.90</td>\n",
       "      <td>13913.839</td>\n",
       "      <td>6.101364e+11</td>\n",
       "      <td>45158.0</td>\n",
       "      <td>1525.0</td>\n",
       "      <td>NaN</td>\n",
       "      <td>NaN</td>\n",
       "      <td>1029.804468</td>\n",
       "      <td>34.776824</td>\n",
       "    </tr>\n",
       "    <tr>\n",
       "      <th>3</th>\n",
       "      <td>Andorra</td>\n",
       "      <td>Europe</td>\n",
       "      <td>77265.0</td>\n",
       "      <td>83.73</td>\n",
       "      <td>NaN</td>\n",
       "      <td>NaN</td>\n",
       "      <td>NaN</td>\n",
       "      <td>1199.0</td>\n",
       "      <td>53.0</td>\n",
       "      <td>NaN</td>\n",
       "      <td>NaN</td>\n",
       "      <td>15518.022390</td>\n",
       "      <td>685.950948</td>\n",
       "    </tr>\n",
       "    <tr>\n",
       "      <th>4</th>\n",
       "      <td>Angola</td>\n",
       "      <td>Africa</td>\n",
       "      <td>32866268.0</td>\n",
       "      <td>61.15</td>\n",
       "      <td>NaN</td>\n",
       "      <td>5819.495</td>\n",
       "      <td>1.912651e+11</td>\n",
       "      <td>2729.0</td>\n",
       "      <td>109.0</td>\n",
       "      <td>NaN</td>\n",
       "      <td>NaN</td>\n",
       "      <td>83.033462</td>\n",
       "      <td>3.316470</td>\n",
       "    </tr>\n",
       "    <tr>\n",
       "      <th>...</th>\n",
       "      <td>...</td>\n",
       "      <td>...</td>\n",
       "      <td>...</td>\n",
       "      <td>...</td>\n",
       "      <td>...</td>\n",
       "      <td>...</td>\n",
       "      <td>...</td>\n",
       "      <td>...</td>\n",
       "      <td>...</td>\n",
       "      <td>...</td>\n",
       "      <td>...</td>\n",
       "      <td>...</td>\n",
       "      <td>...</td>\n",
       "    </tr>\n",
       "    <tr>\n",
       "      <th>205</th>\n",
       "      <td>Vietnam</td>\n",
       "      <td>Asia</td>\n",
       "      <td>97338583.0</td>\n",
       "      <td>75.40</td>\n",
       "      <td>2.60</td>\n",
       "      <td>6171.884</td>\n",
       "      <td>6.007624e+11</td>\n",
       "      <td>1046.0</td>\n",
       "      <td>35.0</td>\n",
       "      <td>261004.0</td>\n",
       "      <td>2681.403324</td>\n",
       "      <td>10.745996</td>\n",
       "      <td>0.359570</td>\n",
       "    </tr>\n",
       "    <tr>\n",
       "      <th>206</th>\n",
       "      <td>Western Sahara</td>\n",
       "      <td>Africa</td>\n",
       "      <td>597330.0</td>\n",
       "      <td>70.26</td>\n",
       "      <td>NaN</td>\n",
       "      <td>NaN</td>\n",
       "      <td>NaN</td>\n",
       "      <td>766.0</td>\n",
       "      <td>1.0</td>\n",
       "      <td>NaN</td>\n",
       "      <td>NaN</td>\n",
       "      <td>1282.373228</td>\n",
       "      <td>1.674116</td>\n",
       "    </tr>\n",
       "    <tr>\n",
       "      <th>207</th>\n",
       "      <td>Yemen</td>\n",
       "      <td>Asia</td>\n",
       "      <td>29825968.0</td>\n",
       "      <td>66.12</td>\n",
       "      <td>0.70</td>\n",
       "      <td>1479.147</td>\n",
       "      <td>4.411699e+10</td>\n",
       "      <td>1976.0</td>\n",
       "      <td>571.0</td>\n",
       "      <td>NaN</td>\n",
       "      <td>NaN</td>\n",
       "      <td>66.250993</td>\n",
       "      <td>19.144391</td>\n",
       "    </tr>\n",
       "    <tr>\n",
       "      <th>208</th>\n",
       "      <td>Zambia</td>\n",
       "      <td>Africa</td>\n",
       "      <td>18383956.0</td>\n",
       "      <td>63.89</td>\n",
       "      <td>2.00</td>\n",
       "      <td>3689.251</td>\n",
       "      <td>6.782303e+10</td>\n",
       "      <td>12415.0</td>\n",
       "      <td>292.0</td>\n",
       "      <td>NaN</td>\n",
       "      <td>NaN</td>\n",
       "      <td>675.317108</td>\n",
       "      <td>15.883415</td>\n",
       "    </tr>\n",
       "    <tr>\n",
       "      <th>209</th>\n",
       "      <td>Zimbabwe</td>\n",
       "      <td>Africa</td>\n",
       "      <td>14862927.0</td>\n",
       "      <td>61.49</td>\n",
       "      <td>1.70</td>\n",
       "      <td>1899.775</td>\n",
       "      <td>2.823622e+10</td>\n",
       "      <td>6638.0</td>\n",
       "      <td>206.0</td>\n",
       "      <td>97272.0</td>\n",
       "      <td>6544.605918</td>\n",
       "      <td>446.614587</td>\n",
       "      <td>13.859989</td>\n",
       "    </tr>\n",
       "  </tbody>\n",
       "</table>\n",
       "<p>210 rows × 13 columns</p>\n",
       "</div>"
      ],
      "text/plain": [
       "           location continent  population  life_expectancy  \\\n",
       "0       Afghanistan      Asia  38928341.0            64.83   \n",
       "1           Albania    Europe   2877800.0            78.57   \n",
       "2           Algeria    Africa  43851043.0            76.88   \n",
       "3           Andorra    Europe     77265.0            83.73   \n",
       "4            Angola    Africa  32866268.0            61.15   \n",
       "..              ...       ...         ...              ...   \n",
       "205         Vietnam      Asia  97338583.0            75.40   \n",
       "206  Western Sahara    Africa    597330.0            70.26   \n",
       "207           Yemen      Asia  29825968.0            66.12   \n",
       "208          Zambia    Africa  18383956.0            63.89   \n",
       "209        Zimbabwe    Africa  14862927.0            61.49   \n",
       "\n",
       "     hospital_beds_per_thousand  gdp_per_capita           gdp  total_cases  \\\n",
       "0                          0.50        1803.987  7.022622e+10      38243.0   \n",
       "1                          2.89       11803.431  3.396791e+10       9728.0   \n",
       "2                          1.90       13913.839  6.101364e+11      45158.0   \n",
       "3                           NaN             NaN           NaN       1199.0   \n",
       "4                           NaN        5819.495  1.912651e+11       2729.0   \n",
       "..                          ...             ...           ...          ...   \n",
       "205                        2.60        6171.884  6.007624e+11       1046.0   \n",
       "206                         NaN             NaN           NaN        766.0   \n",
       "207                        0.70        1479.147  4.411699e+10       1976.0   \n",
       "208                        2.00        3689.251  6.782303e+10      12415.0   \n",
       "209                        1.70        1899.775  2.823622e+10       6638.0   \n",
       "\n",
       "     total_deaths  total_tests  tests_per_million  cases_per_million  \\\n",
       "0          1409.0          NaN                NaN         982.394806   \n",
       "1           296.0          NaN                NaN        3380.359997   \n",
       "2          1525.0          NaN                NaN        1029.804468   \n",
       "3            53.0          NaN                NaN       15518.022390   \n",
       "4           109.0          NaN                NaN          83.033462   \n",
       "..            ...          ...                ...                ...   \n",
       "205          35.0     261004.0        2681.403324          10.745996   \n",
       "206           1.0          NaN                NaN        1282.373228   \n",
       "207         571.0          NaN                NaN          66.250993   \n",
       "208         292.0          NaN                NaN         675.317108   \n",
       "209         206.0      97272.0        6544.605918         446.614587   \n",
       "\n",
       "     deaths_per_million  \n",
       "0             36.194710  \n",
       "1            102.856349  \n",
       "2             34.776824  \n",
       "3            685.950948  \n",
       "4              3.316470  \n",
       "..                  ...  \n",
       "205            0.359570  \n",
       "206            1.674116  \n",
       "207           19.144391  \n",
       "208           15.883415  \n",
       "209           13.859989  \n",
       "\n",
       "[210 rows x 13 columns]"
      ]
     },
     "execution_count": 35,
     "metadata": {},
     "output_type": "execute_result"
    }
   ],
   "source": [
    "combined_df"
   ]
  },
  {
   "cell_type": "markdown",
   "metadata": {
    "id": "9dmP5k_lhRPm"
   },
   "source": [
    "**Q11: Create a dataframe with 10 countires that have highest number of tests per million people.**"
   ]
  },
  {
   "cell_type": "code",
   "execution_count": 36,
   "metadata": {
    "id": "pFxnXGpFhRPm"
   },
   "outputs": [],
   "source": [
    "highest_tests_df = combined_df.sort_values('tests_per_million',ascending=False).head(10)"
   ]
  },
  {
   "cell_type": "code",
   "execution_count": 37,
   "metadata": {
    "id": "loaDTUlWhRPm"
   },
   "outputs": [
    {
     "data": {
      "text/html": [
       "<div>\n",
       "<style scoped>\n",
       "    .dataframe tbody tr th:only-of-type {\n",
       "        vertical-align: middle;\n",
       "    }\n",
       "\n",
       "    .dataframe tbody tr th {\n",
       "        vertical-align: top;\n",
       "    }\n",
       "\n",
       "    .dataframe thead th {\n",
       "        text-align: right;\n",
       "    }\n",
       "</style>\n",
       "<table border=\"1\" class=\"dataframe\">\n",
       "  <thead>\n",
       "    <tr style=\"text-align: right;\">\n",
       "      <th></th>\n",
       "      <th>location</th>\n",
       "      <th>continent</th>\n",
       "      <th>population</th>\n",
       "      <th>life_expectancy</th>\n",
       "      <th>hospital_beds_per_thousand</th>\n",
       "      <th>gdp_per_capita</th>\n",
       "      <th>gdp</th>\n",
       "      <th>total_cases</th>\n",
       "      <th>total_deaths</th>\n",
       "      <th>total_tests</th>\n",
       "      <th>tests_per_million</th>\n",
       "      <th>cases_per_million</th>\n",
       "      <th>deaths_per_million</th>\n",
       "    </tr>\n",
       "  </thead>\n",
       "  <tbody>\n",
       "    <tr>\n",
       "      <th>197</th>\n",
       "      <td>United Arab Emirates</td>\n",
       "      <td>Asia</td>\n",
       "      <td>9890400.0</td>\n",
       "      <td>77.97</td>\n",
       "      <td>1.200</td>\n",
       "      <td>67293.483</td>\n",
       "      <td>6.655595e+11</td>\n",
       "      <td>71540.0</td>\n",
       "      <td>387.0</td>\n",
       "      <td>7177430.0</td>\n",
       "      <td>725696.635121</td>\n",
       "      <td>7233.276713</td>\n",
       "      <td>39.128852</td>\n",
       "    </tr>\n",
       "    <tr>\n",
       "      <th>14</th>\n",
       "      <td>Bahrain</td>\n",
       "      <td>Asia</td>\n",
       "      <td>1701583.0</td>\n",
       "      <td>77.29</td>\n",
       "      <td>2.000</td>\n",
       "      <td>43290.705</td>\n",
       "      <td>7.366273e+10</td>\n",
       "      <td>52440.0</td>\n",
       "      <td>190.0</td>\n",
       "      <td>1118837.0</td>\n",
       "      <td>657527.137965</td>\n",
       "      <td>30818.361490</td>\n",
       "      <td>111.660730</td>\n",
       "    </tr>\n",
       "    <tr>\n",
       "      <th>115</th>\n",
       "      <td>Luxembourg</td>\n",
       "      <td>Europe</td>\n",
       "      <td>625976.0</td>\n",
       "      <td>82.25</td>\n",
       "      <td>4.510</td>\n",
       "      <td>94277.965</td>\n",
       "      <td>5.901574e+10</td>\n",
       "      <td>7928.0</td>\n",
       "      <td>124.0</td>\n",
       "      <td>385820.0</td>\n",
       "      <td>616349.508607</td>\n",
       "      <td>12665.022301</td>\n",
       "      <td>198.090662</td>\n",
       "    </tr>\n",
       "    <tr>\n",
       "      <th>122</th>\n",
       "      <td>Malta</td>\n",
       "      <td>Europe</td>\n",
       "      <td>441539.0</td>\n",
       "      <td>82.53</td>\n",
       "      <td>4.485</td>\n",
       "      <td>36513.323</td>\n",
       "      <td>1.612206e+10</td>\n",
       "      <td>1931.0</td>\n",
       "      <td>13.0</td>\n",
       "      <td>188539.0</td>\n",
       "      <td>427004.183096</td>\n",
       "      <td>4373.339614</td>\n",
       "      <td>29.442473</td>\n",
       "    </tr>\n",
       "    <tr>\n",
       "      <th>53</th>\n",
       "      <td>Denmark</td>\n",
       "      <td>Europe</td>\n",
       "      <td>5792203.0</td>\n",
       "      <td>80.90</td>\n",
       "      <td>2.500</td>\n",
       "      <td>46682.515</td>\n",
       "      <td>2.703946e+11</td>\n",
       "      <td>17195.0</td>\n",
       "      <td>626.0</td>\n",
       "      <td>2447911.0</td>\n",
       "      <td>422621.755488</td>\n",
       "      <td>2968.645954</td>\n",
       "      <td>108.076323</td>\n",
       "    </tr>\n",
       "    <tr>\n",
       "      <th>96</th>\n",
       "      <td>Israel</td>\n",
       "      <td>Asia</td>\n",
       "      <td>8655541.0</td>\n",
       "      <td>82.97</td>\n",
       "      <td>2.990</td>\n",
       "      <td>33132.320</td>\n",
       "      <td>2.867782e+11</td>\n",
       "      <td>122539.0</td>\n",
       "      <td>969.0</td>\n",
       "      <td>2353984.0</td>\n",
       "      <td>271962.665303</td>\n",
       "      <td>14157.289533</td>\n",
       "      <td>111.951408</td>\n",
       "    </tr>\n",
       "    <tr>\n",
       "      <th>89</th>\n",
       "      <td>Iceland</td>\n",
       "      <td>Europe</td>\n",
       "      <td>341250.0</td>\n",
       "      <td>82.99</td>\n",
       "      <td>2.910</td>\n",
       "      <td>46482.958</td>\n",
       "      <td>1.586231e+10</td>\n",
       "      <td>2121.0</td>\n",
       "      <td>10.0</td>\n",
       "      <td>88829.0</td>\n",
       "      <td>260304.761905</td>\n",
       "      <td>6215.384615</td>\n",
       "      <td>29.304029</td>\n",
       "    </tr>\n",
       "    <tr>\n",
       "      <th>157</th>\n",
       "      <td>Russia</td>\n",
       "      <td>Europe</td>\n",
       "      <td>145934460.0</td>\n",
       "      <td>72.58</td>\n",
       "      <td>8.050</td>\n",
       "      <td>24765.954</td>\n",
       "      <td>3.614206e+12</td>\n",
       "      <td>1005000.0</td>\n",
       "      <td>17414.0</td>\n",
       "      <td>37176827.0</td>\n",
       "      <td>254750.159763</td>\n",
       "      <td>6886.653091</td>\n",
       "      <td>119.327539</td>\n",
       "    </tr>\n",
       "    <tr>\n",
       "      <th>199</th>\n",
       "      <td>United States</td>\n",
       "      <td>North America</td>\n",
       "      <td>331002647.0</td>\n",
       "      <td>78.86</td>\n",
       "      <td>2.770</td>\n",
       "      <td>54225.446</td>\n",
       "      <td>1.794877e+13</td>\n",
       "      <td>6114406.0</td>\n",
       "      <td>185744.0</td>\n",
       "      <td>83898416.0</td>\n",
       "      <td>253467.507769</td>\n",
       "      <td>18472.377957</td>\n",
       "      <td>561.155633</td>\n",
       "    </tr>\n",
       "    <tr>\n",
       "      <th>10</th>\n",
       "      <td>Australia</td>\n",
       "      <td>Oceania</td>\n",
       "      <td>25499881.0</td>\n",
       "      <td>83.44</td>\n",
       "      <td>3.840</td>\n",
       "      <td>44648.710</td>\n",
       "      <td>1.138537e+12</td>\n",
       "      <td>25923.0</td>\n",
       "      <td>663.0</td>\n",
       "      <td>6255797.0</td>\n",
       "      <td>245326.517406</td>\n",
       "      <td>1016.592979</td>\n",
       "      <td>26.000121</td>\n",
       "    </tr>\n",
       "  </tbody>\n",
       "</table>\n",
       "</div>"
      ],
      "text/plain": [
       "                 location      continent   population  life_expectancy  \\\n",
       "197  United Arab Emirates           Asia    9890400.0            77.97   \n",
       "14                Bahrain           Asia    1701583.0            77.29   \n",
       "115            Luxembourg         Europe     625976.0            82.25   \n",
       "122                 Malta         Europe     441539.0            82.53   \n",
       "53                Denmark         Europe    5792203.0            80.90   \n",
       "96                 Israel           Asia    8655541.0            82.97   \n",
       "89                Iceland         Europe     341250.0            82.99   \n",
       "157                Russia         Europe  145934460.0            72.58   \n",
       "199         United States  North America  331002647.0            78.86   \n",
       "10              Australia        Oceania   25499881.0            83.44   \n",
       "\n",
       "     hospital_beds_per_thousand  gdp_per_capita           gdp  total_cases  \\\n",
       "197                       1.200       67293.483  6.655595e+11      71540.0   \n",
       "14                        2.000       43290.705  7.366273e+10      52440.0   \n",
       "115                       4.510       94277.965  5.901574e+10       7928.0   \n",
       "122                       4.485       36513.323  1.612206e+10       1931.0   \n",
       "53                        2.500       46682.515  2.703946e+11      17195.0   \n",
       "96                        2.990       33132.320  2.867782e+11     122539.0   \n",
       "89                        2.910       46482.958  1.586231e+10       2121.0   \n",
       "157                       8.050       24765.954  3.614206e+12    1005000.0   \n",
       "199                       2.770       54225.446  1.794877e+13    6114406.0   \n",
       "10                        3.840       44648.710  1.138537e+12      25923.0   \n",
       "\n",
       "     total_deaths  total_tests  tests_per_million  cases_per_million  \\\n",
       "197         387.0    7177430.0      725696.635121        7233.276713   \n",
       "14          190.0    1118837.0      657527.137965       30818.361490   \n",
       "115         124.0     385820.0      616349.508607       12665.022301   \n",
       "122          13.0     188539.0      427004.183096        4373.339614   \n",
       "53          626.0    2447911.0      422621.755488        2968.645954   \n",
       "96          969.0    2353984.0      271962.665303       14157.289533   \n",
       "89           10.0      88829.0      260304.761905        6215.384615   \n",
       "157       17414.0   37176827.0      254750.159763        6886.653091   \n",
       "199      185744.0   83898416.0      253467.507769       18472.377957   \n",
       "10          663.0    6255797.0      245326.517406        1016.592979   \n",
       "\n",
       "     deaths_per_million  \n",
       "197           39.128852  \n",
       "14           111.660730  \n",
       "115          198.090662  \n",
       "122           29.442473  \n",
       "53           108.076323  \n",
       "96           111.951408  \n",
       "89            29.304029  \n",
       "157          119.327539  \n",
       "199          561.155633  \n",
       "10            26.000121  "
      ]
     },
     "execution_count": 37,
     "metadata": {},
     "output_type": "execute_result"
    }
   ],
   "source": [
    "highest_tests_df"
   ]
  },
  {
   "cell_type": "markdown",
   "metadata": {
    "id": "KhRRIBVRhRPn"
   },
   "source": [
    "**Q12: Create a dataframe with 10 countires that have highest number of positive cases per million people.**"
   ]
  },
  {
   "cell_type": "code",
   "execution_count": 38,
   "metadata": {
    "id": "ctowGHK3hRPn"
   },
   "outputs": [],
   "source": [
    "highest_cases_df = combined_df.sort_values('cases_per_million',ascending=False).head(10)"
   ]
  },
  {
   "cell_type": "code",
   "execution_count": 39,
   "metadata": {
    "id": "b-0nASY5hRPn"
   },
   "outputs": [
    {
     "data": {
      "text/html": [
       "<div>\n",
       "<style scoped>\n",
       "    .dataframe tbody tr th:only-of-type {\n",
       "        vertical-align: middle;\n",
       "    }\n",
       "\n",
       "    .dataframe tbody tr th {\n",
       "        vertical-align: top;\n",
       "    }\n",
       "\n",
       "    .dataframe thead th {\n",
       "        text-align: right;\n",
       "    }\n",
       "</style>\n",
       "<table border=\"1\" class=\"dataframe\">\n",
       "  <thead>\n",
       "    <tr style=\"text-align: right;\">\n",
       "      <th></th>\n",
       "      <th>location</th>\n",
       "      <th>continent</th>\n",
       "      <th>population</th>\n",
       "      <th>life_expectancy</th>\n",
       "      <th>hospital_beds_per_thousand</th>\n",
       "      <th>gdp_per_capita</th>\n",
       "      <th>gdp</th>\n",
       "      <th>total_cases</th>\n",
       "      <th>total_deaths</th>\n",
       "      <th>total_tests</th>\n",
       "      <th>tests_per_million</th>\n",
       "      <th>cases_per_million</th>\n",
       "      <th>deaths_per_million</th>\n",
       "    </tr>\n",
       "  </thead>\n",
       "  <tbody>\n",
       "    <tr>\n",
       "      <th>155</th>\n",
       "      <td>Qatar</td>\n",
       "      <td>Asia</td>\n",
       "      <td>2881060.0</td>\n",
       "      <td>80.23</td>\n",
       "      <td>1.20</td>\n",
       "      <td>116935.600</td>\n",
       "      <td>3.368985e+11</td>\n",
       "      <td>119206.0</td>\n",
       "      <td>199.0</td>\n",
       "      <td>634745.0</td>\n",
       "      <td>220316.480740</td>\n",
       "      <td>41375.743650</td>\n",
       "      <td>69.071800</td>\n",
       "    </tr>\n",
       "    <tr>\n",
       "      <th>14</th>\n",
       "      <td>Bahrain</td>\n",
       "      <td>Asia</td>\n",
       "      <td>1701583.0</td>\n",
       "      <td>77.29</td>\n",
       "      <td>2.00</td>\n",
       "      <td>43290.705</td>\n",
       "      <td>7.366273e+10</td>\n",
       "      <td>52440.0</td>\n",
       "      <td>190.0</td>\n",
       "      <td>1118837.0</td>\n",
       "      <td>657527.137965</td>\n",
       "      <td>30818.361490</td>\n",
       "      <td>111.660730</td>\n",
       "    </tr>\n",
       "    <tr>\n",
       "      <th>147</th>\n",
       "      <td>Panama</td>\n",
       "      <td>North America</td>\n",
       "      <td>4314768.0</td>\n",
       "      <td>78.51</td>\n",
       "      <td>2.30</td>\n",
       "      <td>22267.037</td>\n",
       "      <td>9.607710e+10</td>\n",
       "      <td>94084.0</td>\n",
       "      <td>2030.0</td>\n",
       "      <td>336345.0</td>\n",
       "      <td>77952.047480</td>\n",
       "      <td>21805.112117</td>\n",
       "      <td>470.477208</td>\n",
       "    </tr>\n",
       "    <tr>\n",
       "      <th>40</th>\n",
       "      <td>Chile</td>\n",
       "      <td>South America</td>\n",
       "      <td>19116209.0</td>\n",
       "      <td>80.18</td>\n",
       "      <td>2.11</td>\n",
       "      <td>22767.037</td>\n",
       "      <td>4.352194e+11</td>\n",
       "      <td>414739.0</td>\n",
       "      <td>11344.0</td>\n",
       "      <td>2458762.0</td>\n",
       "      <td>128621.841287</td>\n",
       "      <td>21695.671982</td>\n",
       "      <td>593.423100</td>\n",
       "    </tr>\n",
       "    <tr>\n",
       "      <th>162</th>\n",
       "      <td>San Marino</td>\n",
       "      <td>Europe</td>\n",
       "      <td>33938.0</td>\n",
       "      <td>84.97</td>\n",
       "      <td>3.80</td>\n",
       "      <td>56861.470</td>\n",
       "      <td>1.929765e+09</td>\n",
       "      <td>735.0</td>\n",
       "      <td>42.0</td>\n",
       "      <td>NaN</td>\n",
       "      <td>NaN</td>\n",
       "      <td>21657.139490</td>\n",
       "      <td>1237.550828</td>\n",
       "    </tr>\n",
       "    <tr>\n",
       "      <th>9</th>\n",
       "      <td>Aruba</td>\n",
       "      <td>North America</td>\n",
       "      <td>106766.0</td>\n",
       "      <td>76.29</td>\n",
       "      <td>NaN</td>\n",
       "      <td>35973.781</td>\n",
       "      <td>3.840777e+09</td>\n",
       "      <td>2211.0</td>\n",
       "      <td>12.0</td>\n",
       "      <td>NaN</td>\n",
       "      <td>NaN</td>\n",
       "      <td>20708.839893</td>\n",
       "      <td>112.395332</td>\n",
       "    </tr>\n",
       "    <tr>\n",
       "      <th>105</th>\n",
       "      <td>Kuwait</td>\n",
       "      <td>Asia</td>\n",
       "      <td>4270563.0</td>\n",
       "      <td>75.49</td>\n",
       "      <td>2.00</td>\n",
       "      <td>65530.537</td>\n",
       "      <td>2.798523e+11</td>\n",
       "      <td>86478.0</td>\n",
       "      <td>535.0</td>\n",
       "      <td>621616.0</td>\n",
       "      <td>145558.325682</td>\n",
       "      <td>20249.789079</td>\n",
       "      <td>125.276222</td>\n",
       "    </tr>\n",
       "    <tr>\n",
       "      <th>150</th>\n",
       "      <td>Peru</td>\n",
       "      <td>South America</td>\n",
       "      <td>32971846.0</td>\n",
       "      <td>76.74</td>\n",
       "      <td>1.60</td>\n",
       "      <td>12236.706</td>\n",
       "      <td>4.034668e+11</td>\n",
       "      <td>663437.0</td>\n",
       "      <td>29259.0</td>\n",
       "      <td>584232.0</td>\n",
       "      <td>17719.117092</td>\n",
       "      <td>20121.318048</td>\n",
       "      <td>887.393445</td>\n",
       "    </tr>\n",
       "    <tr>\n",
       "      <th>27</th>\n",
       "      <td>Brazil</td>\n",
       "      <td>South America</td>\n",
       "      <td>212559409.0</td>\n",
       "      <td>75.88</td>\n",
       "      <td>2.20</td>\n",
       "      <td>14103.452</td>\n",
       "      <td>2.997821e+12</td>\n",
       "      <td>3997865.0</td>\n",
       "      <td>123780.0</td>\n",
       "      <td>4797948.0</td>\n",
       "      <td>22572.268255</td>\n",
       "      <td>18808.224105</td>\n",
       "      <td>582.331314</td>\n",
       "    </tr>\n",
       "    <tr>\n",
       "      <th>199</th>\n",
       "      <td>United States</td>\n",
       "      <td>North America</td>\n",
       "      <td>331002647.0</td>\n",
       "      <td>78.86</td>\n",
       "      <td>2.77</td>\n",
       "      <td>54225.446</td>\n",
       "      <td>1.794877e+13</td>\n",
       "      <td>6114406.0</td>\n",
       "      <td>185744.0</td>\n",
       "      <td>83898416.0</td>\n",
       "      <td>253467.507769</td>\n",
       "      <td>18472.377957</td>\n",
       "      <td>561.155633</td>\n",
       "    </tr>\n",
       "  </tbody>\n",
       "</table>\n",
       "</div>"
      ],
      "text/plain": [
       "          location      continent   population  life_expectancy  \\\n",
       "155          Qatar           Asia    2881060.0            80.23   \n",
       "14         Bahrain           Asia    1701583.0            77.29   \n",
       "147         Panama  North America    4314768.0            78.51   \n",
       "40           Chile  South America   19116209.0            80.18   \n",
       "162     San Marino         Europe      33938.0            84.97   \n",
       "9            Aruba  North America     106766.0            76.29   \n",
       "105         Kuwait           Asia    4270563.0            75.49   \n",
       "150           Peru  South America   32971846.0            76.74   \n",
       "27          Brazil  South America  212559409.0            75.88   \n",
       "199  United States  North America  331002647.0            78.86   \n",
       "\n",
       "     hospital_beds_per_thousand  gdp_per_capita           gdp  total_cases  \\\n",
       "155                        1.20      116935.600  3.368985e+11     119206.0   \n",
       "14                         2.00       43290.705  7.366273e+10      52440.0   \n",
       "147                        2.30       22267.037  9.607710e+10      94084.0   \n",
       "40                         2.11       22767.037  4.352194e+11     414739.0   \n",
       "162                        3.80       56861.470  1.929765e+09        735.0   \n",
       "9                           NaN       35973.781  3.840777e+09       2211.0   \n",
       "105                        2.00       65530.537  2.798523e+11      86478.0   \n",
       "150                        1.60       12236.706  4.034668e+11     663437.0   \n",
       "27                         2.20       14103.452  2.997821e+12    3997865.0   \n",
       "199                        2.77       54225.446  1.794877e+13    6114406.0   \n",
       "\n",
       "     total_deaths  total_tests  tests_per_million  cases_per_million  \\\n",
       "155         199.0     634745.0      220316.480740       41375.743650   \n",
       "14          190.0    1118837.0      657527.137965       30818.361490   \n",
       "147        2030.0     336345.0       77952.047480       21805.112117   \n",
       "40        11344.0    2458762.0      128621.841287       21695.671982   \n",
       "162          42.0          NaN                NaN       21657.139490   \n",
       "9            12.0          NaN                NaN       20708.839893   \n",
       "105         535.0     621616.0      145558.325682       20249.789079   \n",
       "150       29259.0     584232.0       17719.117092       20121.318048   \n",
       "27       123780.0    4797948.0       22572.268255       18808.224105   \n",
       "199      185744.0   83898416.0      253467.507769       18472.377957   \n",
       "\n",
       "     deaths_per_million  \n",
       "155           69.071800  \n",
       "14           111.660730  \n",
       "147          470.477208  \n",
       "40           593.423100  \n",
       "162         1237.550828  \n",
       "9            112.395332  \n",
       "105          125.276222  \n",
       "150          887.393445  \n",
       "27           582.331314  \n",
       "199          561.155633  "
      ]
     },
     "execution_count": 39,
     "metadata": {},
     "output_type": "execute_result"
    }
   ],
   "source": [
    "highest_cases_df"
   ]
  },
  {
   "cell_type": "markdown",
   "metadata": {
    "id": "qRwPwSC4hRPn"
   },
   "source": [
    "**Q13: Create a dataframe with 10 countires that have highest number of deaths cases per million people?**"
   ]
  },
  {
   "cell_type": "code",
   "execution_count": 40,
   "metadata": {
    "id": "0pcinvlehRPn"
   },
   "outputs": [],
   "source": [
    "highest_deaths_df = combined_df.sort_values('deaths_per_million',ascending=False).head(10)"
   ]
  },
  {
   "cell_type": "code",
   "execution_count": 41,
   "metadata": {
    "id": "SQ2rjKpIhRPn"
   },
   "outputs": [
    {
     "data": {
      "text/html": [
       "<div>\n",
       "<style scoped>\n",
       "    .dataframe tbody tr th:only-of-type {\n",
       "        vertical-align: middle;\n",
       "    }\n",
       "\n",
       "    .dataframe tbody tr th {\n",
       "        vertical-align: top;\n",
       "    }\n",
       "\n",
       "    .dataframe thead th {\n",
       "        text-align: right;\n",
       "    }\n",
       "</style>\n",
       "<table border=\"1\" class=\"dataframe\">\n",
       "  <thead>\n",
       "    <tr style=\"text-align: right;\">\n",
       "      <th></th>\n",
       "      <th>location</th>\n",
       "      <th>continent</th>\n",
       "      <th>population</th>\n",
       "      <th>life_expectancy</th>\n",
       "      <th>hospital_beds_per_thousand</th>\n",
       "      <th>gdp_per_capita</th>\n",
       "      <th>gdp</th>\n",
       "      <th>total_cases</th>\n",
       "      <th>total_deaths</th>\n",
       "      <th>total_tests</th>\n",
       "      <th>tests_per_million</th>\n",
       "      <th>cases_per_million</th>\n",
       "      <th>deaths_per_million</th>\n",
       "    </tr>\n",
       "  </thead>\n",
       "  <tbody>\n",
       "    <tr>\n",
       "      <th>162</th>\n",
       "      <td>San Marino</td>\n",
       "      <td>Europe</td>\n",
       "      <td>33938.0</td>\n",
       "      <td>84.97</td>\n",
       "      <td>3.80</td>\n",
       "      <td>56861.470</td>\n",
       "      <td>1.929765e+09</td>\n",
       "      <td>735.0</td>\n",
       "      <td>42.0</td>\n",
       "      <td>NaN</td>\n",
       "      <td>NaN</td>\n",
       "      <td>21657.139490</td>\n",
       "      <td>1237.550828</td>\n",
       "    </tr>\n",
       "    <tr>\n",
       "      <th>150</th>\n",
       "      <td>Peru</td>\n",
       "      <td>South America</td>\n",
       "      <td>32971846.0</td>\n",
       "      <td>76.74</td>\n",
       "      <td>1.60</td>\n",
       "      <td>12236.706</td>\n",
       "      <td>4.034668e+11</td>\n",
       "      <td>663437.0</td>\n",
       "      <td>29259.0</td>\n",
       "      <td>584232.0</td>\n",
       "      <td>17719.117092</td>\n",
       "      <td>20121.318048</td>\n",
       "      <td>887.393445</td>\n",
       "    </tr>\n",
       "    <tr>\n",
       "      <th>18</th>\n",
       "      <td>Belgium</td>\n",
       "      <td>Europe</td>\n",
       "      <td>11589616.0</td>\n",
       "      <td>81.63</td>\n",
       "      <td>5.64</td>\n",
       "      <td>42658.576</td>\n",
       "      <td>4.943965e+11</td>\n",
       "      <td>85817.0</td>\n",
       "      <td>9898.0</td>\n",
       "      <td>2281853.0</td>\n",
       "      <td>196887.713967</td>\n",
       "      <td>7404.645676</td>\n",
       "      <td>854.040375</td>\n",
       "    </tr>\n",
       "    <tr>\n",
       "      <th>3</th>\n",
       "      <td>Andorra</td>\n",
       "      <td>Europe</td>\n",
       "      <td>77265.0</td>\n",
       "      <td>83.73</td>\n",
       "      <td>NaN</td>\n",
       "      <td>NaN</td>\n",
       "      <td>NaN</td>\n",
       "      <td>1199.0</td>\n",
       "      <td>53.0</td>\n",
       "      <td>NaN</td>\n",
       "      <td>NaN</td>\n",
       "      <td>15518.022390</td>\n",
       "      <td>685.950948</td>\n",
       "    </tr>\n",
       "    <tr>\n",
       "      <th>177</th>\n",
       "      <td>Spain</td>\n",
       "      <td>Europe</td>\n",
       "      <td>46754783.0</td>\n",
       "      <td>83.56</td>\n",
       "      <td>2.97</td>\n",
       "      <td>34272.360</td>\n",
       "      <td>1.602397e+12</td>\n",
       "      <td>479554.0</td>\n",
       "      <td>29194.0</td>\n",
       "      <td>6416533.0</td>\n",
       "      <td>137238.001939</td>\n",
       "      <td>10256.790198</td>\n",
       "      <td>624.406705</td>\n",
       "    </tr>\n",
       "    <tr>\n",
       "      <th>198</th>\n",
       "      <td>United Kingdom</td>\n",
       "      <td>Europe</td>\n",
       "      <td>67886004.0</td>\n",
       "      <td>81.32</td>\n",
       "      <td>2.54</td>\n",
       "      <td>39753.244</td>\n",
       "      <td>2.698689e+12</td>\n",
       "      <td>338676.0</td>\n",
       "      <td>41514.0</td>\n",
       "      <td>13447568.0</td>\n",
       "      <td>198090.434075</td>\n",
       "      <td>4988.892850</td>\n",
       "      <td>611.525168</td>\n",
       "    </tr>\n",
       "    <tr>\n",
       "      <th>40</th>\n",
       "      <td>Chile</td>\n",
       "      <td>South America</td>\n",
       "      <td>19116209.0</td>\n",
       "      <td>80.18</td>\n",
       "      <td>2.11</td>\n",
       "      <td>22767.037</td>\n",
       "      <td>4.352194e+11</td>\n",
       "      <td>414739.0</td>\n",
       "      <td>11344.0</td>\n",
       "      <td>2458762.0</td>\n",
       "      <td>128621.841287</td>\n",
       "      <td>21695.671982</td>\n",
       "      <td>593.423100</td>\n",
       "    </tr>\n",
       "    <tr>\n",
       "      <th>97</th>\n",
       "      <td>Italy</td>\n",
       "      <td>Europe</td>\n",
       "      <td>60461828.0</td>\n",
       "      <td>83.51</td>\n",
       "      <td>3.18</td>\n",
       "      <td>35220.084</td>\n",
       "      <td>2.129471e+12</td>\n",
       "      <td>271515.0</td>\n",
       "      <td>35497.0</td>\n",
       "      <td>5214766.0</td>\n",
       "      <td>86248.897403</td>\n",
       "      <td>4490.684602</td>\n",
       "      <td>587.097697</td>\n",
       "    </tr>\n",
       "    <tr>\n",
       "      <th>27</th>\n",
       "      <td>Brazil</td>\n",
       "      <td>South America</td>\n",
       "      <td>212559409.0</td>\n",
       "      <td>75.88</td>\n",
       "      <td>2.20</td>\n",
       "      <td>14103.452</td>\n",
       "      <td>2.997821e+12</td>\n",
       "      <td>3997865.0</td>\n",
       "      <td>123780.0</td>\n",
       "      <td>4797948.0</td>\n",
       "      <td>22572.268255</td>\n",
       "      <td>18808.224105</td>\n",
       "      <td>582.331314</td>\n",
       "    </tr>\n",
       "    <tr>\n",
       "      <th>182</th>\n",
       "      <td>Sweden</td>\n",
       "      <td>Europe</td>\n",
       "      <td>10099270.0</td>\n",
       "      <td>82.80</td>\n",
       "      <td>2.22</td>\n",
       "      <td>46949.283</td>\n",
       "      <td>4.741535e+11</td>\n",
       "      <td>84532.0</td>\n",
       "      <td>5820.0</td>\n",
       "      <td>NaN</td>\n",
       "      <td>NaN</td>\n",
       "      <td>8370.109919</td>\n",
       "      <td>576.279276</td>\n",
       "    </tr>\n",
       "  </tbody>\n",
       "</table>\n",
       "</div>"
      ],
      "text/plain": [
       "           location      continent   population  life_expectancy  \\\n",
       "162      San Marino         Europe      33938.0            84.97   \n",
       "150            Peru  South America   32971846.0            76.74   \n",
       "18          Belgium         Europe   11589616.0            81.63   \n",
       "3           Andorra         Europe      77265.0            83.73   \n",
       "177           Spain         Europe   46754783.0            83.56   \n",
       "198  United Kingdom         Europe   67886004.0            81.32   \n",
       "40            Chile  South America   19116209.0            80.18   \n",
       "97            Italy         Europe   60461828.0            83.51   \n",
       "27           Brazil  South America  212559409.0            75.88   \n",
       "182          Sweden         Europe   10099270.0            82.80   \n",
       "\n",
       "     hospital_beds_per_thousand  gdp_per_capita           gdp  total_cases  \\\n",
       "162                        3.80       56861.470  1.929765e+09        735.0   \n",
       "150                        1.60       12236.706  4.034668e+11     663437.0   \n",
       "18                         5.64       42658.576  4.943965e+11      85817.0   \n",
       "3                           NaN             NaN           NaN       1199.0   \n",
       "177                        2.97       34272.360  1.602397e+12     479554.0   \n",
       "198                        2.54       39753.244  2.698689e+12     338676.0   \n",
       "40                         2.11       22767.037  4.352194e+11     414739.0   \n",
       "97                         3.18       35220.084  2.129471e+12     271515.0   \n",
       "27                         2.20       14103.452  2.997821e+12    3997865.0   \n",
       "182                        2.22       46949.283  4.741535e+11      84532.0   \n",
       "\n",
       "     total_deaths  total_tests  tests_per_million  cases_per_million  \\\n",
       "162          42.0          NaN                NaN       21657.139490   \n",
       "150       29259.0     584232.0       17719.117092       20121.318048   \n",
       "18         9898.0    2281853.0      196887.713967        7404.645676   \n",
       "3            53.0          NaN                NaN       15518.022390   \n",
       "177       29194.0    6416533.0      137238.001939       10256.790198   \n",
       "198       41514.0   13447568.0      198090.434075        4988.892850   \n",
       "40        11344.0    2458762.0      128621.841287       21695.671982   \n",
       "97        35497.0    5214766.0       86248.897403        4490.684602   \n",
       "27       123780.0    4797948.0       22572.268255       18808.224105   \n",
       "182        5820.0          NaN                NaN        8370.109919   \n",
       "\n",
       "     deaths_per_million  \n",
       "162         1237.550828  \n",
       "150          887.393445  \n",
       "18           854.040375  \n",
       "3            685.950948  \n",
       "177          624.406705  \n",
       "198          611.525168  \n",
       "40           593.423100  \n",
       "97           587.097697  \n",
       "27           582.331314  \n",
       "182          576.279276  "
      ]
     },
     "execution_count": 41,
     "metadata": {},
     "output_type": "execute_result"
    }
   ],
   "source": [
    "highest_deaths_df"
   ]
  }
 ],
 "metadata": {
  "colab": {
   "name": "pandas-practice-assignment.ipynb",
   "provenance": []
  },
  "interpreter": {
   "hash": "443a206faceb05ca4ca5f17fb3c69ab15d3754c0f4460f4dd3298fbc1529cabb"
  },
  "kernelspec": {
   "display_name": "Python 3.10.2 64-bit",
   "language": "python",
   "name": "python3"
  },
  "language_info": {
   "codemirror_mode": {
    "name": "ipython",
    "version": 3
   },
   "file_extension": ".py",
   "mimetype": "text/x-python",
   "name": "python",
   "nbconvert_exporter": "python",
   "pygments_lexer": "ipython3",
   "version": "3.10.2"
  }
 },
 "nbformat": 4,
 "nbformat_minor": 1
}
